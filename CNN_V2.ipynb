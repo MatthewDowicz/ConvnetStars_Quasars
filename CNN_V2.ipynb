{
 "cells": [
  {
   "cell_type": "code",
   "execution_count": 7,
   "metadata": {},
   "outputs": [],
   "source": [
    "from __future__ import absolute_import, division, print_function, unicode_literals\n",
    "import tensorflow as tf\n",
    "from tensorflow import keras\n",
    "import numpy as np\n",
    "import matplotlib.pyplot as plt\n",
    "from astropy.io import fits\n",
    "from astropy.table import Table\n",
    "import numpy as np\n",
    "import matplotlib.pyplot as plt\n",
    "import seaborn as sns\n",
    "import os\n",
    "import re\n",
    "import shutil\n",
    "import time\n",
    "sns.set()"
   ]
  },
  {
   "cell_type": "code",
   "execution_count": 8,
   "metadata": {},
   "outputs": [],
   "source": [
    "labels = np.zeros(7974)"
   ]
  },
  {
   "cell_type": "code",
   "execution_count": 18,
   "metadata": {},
   "outputs": [],
   "source": [
    "true_train_images = np.full((5900,1,32,1),27)\n",
    "train_labels = np.zeros(5900,)\n",
    "\n",
    "true_val_images = np.full((1000,1,32,1),0)\n",
    "val_labels = np.zeros(1000,)\n",
    "\n",
    "true_test_images = np.full((1074,1,32,1),0)\n",
    "test_labels = np.zeros(1074,)"
   ]
  },
  {
   "cell_type": "code",
   "execution_count": 19,
   "metadata": {},
   "outputs": [],
   "source": [
    "model = keras.Sequential()                                      #input_shape = (height, width, channels)\n",
    "model.add(keras.layers.Conv2D(64, (1,32) ,activation='relu',input_shape=(1,32,1),padding='same',data_format='channels_last'))\n",
    "model.add(keras.layers.MaxPooling2D((1,7), strides=(1,4)))\n",
    "model.add(keras.layers.Conv2D(72, (1,16),activation='relu',padding = 'same'))\n",
    "model.add(keras.layers.MaxPooling2D((1,7), strides=(1,4)))\n",
    "model.add(keras.layers.Flatten())\n",
    "#potentially add dropout here at value = 0.5\n",
    "model.add(keras.layers.Dense(units = 16, activation = 'relu'))\n",
    "model.add(keras.layers.Dense(units = 1, activation = 'sigmoid'))\n",
    "\n",
    "model.compile(loss='binary_crossentropy', optimizer = 'rmsprop', metrics = ['accuracy'])\n"
   ]
  },
  {
   "cell_type": "code",
   "execution_count": 20,
   "metadata": {},
   "outputs": [
    {
     "name": "stdout",
     "output_type": "stream",
     "text": [
      "Train on 5900 samples, validate on 1000 samples\n",
      "Epoch 1/5\n",
      "5900/5900 [==============================] - 1s 119us/sample - loss: 0.0059 - acc: 1.0000 - val_loss: 0.6854 - val_acc: 1.0000\n",
      "Epoch 2/5\n",
      "5900/5900 [==============================] - 0s 69us/sample - loss: 1.0053e-07 - acc: 1.0000 - val_loss: 0.6853 - val_acc: 1.0000\n",
      "Epoch 3/5\n",
      "5900/5900 [==============================] - 0s 70us/sample - loss: 1.0000e-07 - acc: 1.0000 - val_loss: 0.6853 - val_acc: 1.0000\n",
      "Epoch 4/5\n",
      "5900/5900 [==============================] - 0s 69us/sample - loss: 1.0000e-07 - acc: 1.0000 - val_loss: 0.6853 - val_acc: 1.0000\n",
      "Epoch 5/5\n",
      "5900/5900 [==============================] - 0s 71us/sample - loss: 1.0000e-07 - acc: 1.0000 - val_loss: 0.6853 - val_acc: 1.0000\n"
     ]
    }
   ],
   "source": [
    "history = model.fit(true_train_images,\n",
    "train_labels,\n",
    "epochs=5,\n",
    "batch_size=64,\n",
    "validation_data=(true_val_images, val_labels))"
   ]
  },
  {
   "cell_type": "code",
   "execution_count": 21,
   "metadata": {},
   "outputs": [
    {
     "name": "stdout",
     "output_type": "stream",
     "text": [
      "1074/1074 [==============================] - 0s 50us/sample - loss: 0.6853 - acc: 1.0000\n"
     ]
    }
   ],
   "source": [
    "test_loss, test_acc = model.evaluate(true_test_images, test_labels)"
   ]
  },
  {
   "cell_type": "code",
   "execution_count": 22,
   "metadata": {},
   "outputs": [
    {
     "data": {
      "image/png": "[encoded data removed]",
      "text/plain": [
       "<Figure size 432x288 with 1 Axes>"
      ]
     },
     "metadata": {},
     "output_type": "display_data"
    },
    {
     "data": {
      "image/png": "[encoded data removed]",
      "text/plain": [
       "<Figure size 432x288 with 1 Axes>"
      ]
     },
     "metadata": {},
     "output_type": "display_data"
    }
   ],
   "source": [
    "acc = history.history['acc']\n",
    "val_acc = history.history['val_acc']\n",
    "loss = history.history['loss']\n",
    "val_loss = history.history['val_loss']\n",
    "epochs = range(1, len(acc) + 1)\n",
    "plt.plot(epochs, acc, 'bo', label='Training acc')\n",
    "plt.plot(epochs, val_acc, 'b', label='Validation acc')\n",
    "plt.title('Training and validation accuracy')\n",
    "plt.legend()\n",
    "plt.figure()\n",
    "plt.plot(epochs, loss, 'bo', label='Training loss')\n",
    "plt.plot(epochs, val_loss, 'b', label='Validation loss')\n",
    "plt.title('Training and validation loss')\n",
    "plt.legend()\n",
    "plt.show()"
   ]
  },
  {
   "cell_type": "code",
   "execution_count": null,
   "metadata": {},
   "outputs": [],
   "source": []
  }
 ],
 "metadata": {
  "kernelspec": {
   "display_name": "Python 3",
   "language": "python",
   "name": "python3"
  },
  "language_info": {
   "codemirror_mode": {
    "name": "ipython",
    "version": 3
   },
   "file_extension": ".py",
   "mimetype": "text/x-python",
   "name": "python",
   "nbconvert_exporter": "python",
   "pygments_lexer": "ipython3",
   "version": "3.6.7"
  }
 },
 "nbformat": 4,
 "nbformat_minor": 2
}
