{
 "cells": [
  {
   "cell_type": "code",
   "execution_count": 43,
   "metadata": {},
   "outputs": [],
   "source": [
    "import numpy as np\n",
    "import matplotlib.pyplot as plt\n",
    "from astropy.io import fits\n",
    "from astropy.table import Table\n",
    "import numpy as np\n",
    "import seaborn as sns\n",
    "import os\n",
    "import re\n",
    "import time\n",
    "import pickle\n",
    "import pdb\n",
    "#sns.set()"
   ]
  },
  {
   "cell_type": "code",
   "execution_count": 38,
   "metadata": {},
   "outputs": [],
   "source": [
    "def reading_in_data(filename):\n",
    "    \n",
    "    #filename = str(filename)\n",
    "\n",
    "    infile = open(str(filename),'rb')\n",
    "    new_dict = pickle.load(infile)\n",
    "    infile.close()\n",
    "    \n",
    "    return new_dict"
   ]
  },
  {
   "cell_type": "code",
   "execution_count": 41,
   "metadata": {},
   "outputs": [],
   "source": [
    "List = [ reading_in_data(\"new_quasar_data_dict\" + str(i)) for i in range(1,5) ]"
   ]
  },
  {
   "cell_type": "code",
   "execution_count": 3,
   "metadata": {},
   "outputs": [],
   "source": [
    "quasar_dict1 = reading_in_data('new_quasar_data_dict1')\n",
    "quasar_dict2 = reading_in_data('new_quasar_data_dict2')\n",
    "quasar_dict3 = reading_in_data('new_quasar_data_dict3')\n",
    "quasar_dict4 = reading_in_data('new_quasar_data_dict4')\n",
    "\n",
    "star_dict1 = reading_in_data('new_star_data_dict1')\n",
    "star_dict2 = reading_in_data('new_star_data_dict2')\n",
    "star_dict3 = reading_in_data('new_star_data_dict3')\n",
    "star_dict4 = reading_in_data('new_star_data_dict4')"
   ]
  },
  {
   "cell_type": "code",
   "execution_count": 30,
   "metadata": {},
   "outputs": [],
   "source": [
    "noise_QSO = quasar_dict1['NOISE'] + quasar_dict2['NOISE'] + quasar_dict3['NOISE'] + quasar_dict4['NOISE']\n",
    "wave_QSO = quasar_dict1['WAVE'] + quasar_dict2['WAVE'] + quasar_dict3['WAVE'] + quasar_dict4['WAVE']\n",
    "flux_QSO = quasar_dict1['FLUX'] + quasar_dict2['FLUX'] + quasar_dict3['FLUX'] + quasar_dict4['FLUX']\n",
    "classification_QSO = quasar_dict1['CLASS'] + quasar_dict2['CLASS'] + quasar_dict3['CLASS'] + quasar_dict4['CLASS']\n",
    "plate_QSO = quasar_dict1['PLATE'] + quasar_dict2['PLATE'] + quasar_dict3['PLATE'] + quasar_dict4['PLATE']\n",
    "mjd_QSO = quasar_dict1['MJD'] + quasar_dict2['MJD'] + quasar_dict3['MJD'] + quasar_dict4['MJD']\n",
    "fiber_QSO = quasar_dict1['FIBER'] + quasar_dict2['FIBER'] + quasar_dict3['FIBER'] + quasar_dict4['FIBER']"
   ]
  },
  {
   "cell_type": "code",
   "execution_count": 5,
   "metadata": {},
   "outputs": [],
   "source": [
    "noise_STAR = star_dict1['NOISE'] + star_dict2['NOISE'] + star_dict3['NOISE'] + star_dict4['NOISE']\n",
    "wave_STAR = star_dict1['WAVE'] + star_dict2['WAVE'] + star_dict3['WAVE'] + star_dict4['WAVE']\n",
    "flux_STAR = star_dict1['FLUX'] + star_dict2['FLUX'] + star_dict3['FLUX'] + star_dict4['FLUX']\n",
    "classification_STAR = star_dict1['CLASS'] + star_dict2['CLASS'] + star_dict3['CLASS'] + star_dict4['CLASS']\n",
    "plate_STAR = star_dict1['PLATE'] + star_dict2['PLATE'] + star_dict3['PLATE'] + star_dict4['PLATE']\n",
    "mjd_STAR = star_dict1['MJD'] + star_dict2['MJD'] + star_dict3['MJD'] + star_dict4['MJD']\n",
    "fiber_STAR = star_dict1['FIBER'] + star_dict2['FIBER'] + star_dict3['FIBER'] + star_dict4['FIBER']"
   ]
  },
  {
   "cell_type": "code",
   "execution_count": 21,
   "metadata": {},
   "outputs": [
    {
     "data": {
      "text/plain": [
       "<matplotlib.legend.Legend at 0x1244dc240>"
      ]
     },
     "execution_count": 21,
     "metadata": {},
     "output_type": "execute_result"
    },
    {
     "data": {
      "image/png": "[encoded data removed]",
      "text/plain": [
       "<Figure size 432x288 with 1 Axes>"
      ]
     },
     "metadata": {
      "needs_background": "light"
     },
     "output_type": "display_data"
    }
   ],
   "source": [
    "plt.plot(wave_STAR[0], flux_STAR[0], label = noise_STAR[0])\n",
    "plt.legend()"
   ]
  },
  {
   "cell_type": "code",
   "execution_count": 18,
   "metadata": {},
   "outputs": [
    {
     "name": "stdout",
     "output_type": "stream",
     "text": [
      "71101\n",
      "73086\n"
     ]
    }
   ],
   "source": [
    "print(len(noise_STAR))\n",
    "print(len(noise_QSO))"
   ]
  },
  {
   "cell_type": "code",
   "execution_count": 7,
   "metadata": {},
   "outputs": [],
   "source": [
    "# For these commented lines just add _QSO to the end for them to run\n",
    "\n",
    "# print(plate_QSO[33390])\n",
    "# print(mjd[33390])\n",
    "# print(fiber[33390])\n",
    "\n",
    "# print(type(plate))"
   ]
  },
  {
   "cell_type": "code",
   "execution_count": 8,
   "metadata": {},
   "outputs": [],
   "source": [
    "# plate == 6151\n",
    "# mjd == 56265\n",
    "\n",
    "# trueplate = np.where(plate == 6151)[0]\n",
    "# truemjd = np.where(mjd == 56265)[0]\n",
    "# print(trueplate)\n",
    "# print(plate == 6151)\n",
    "# print(mjd == 56265)"
   ]
  },
  {
   "cell_type": "code",
   "execution_count": 9,
   "metadata": {},
   "outputs": [],
   "source": [
    "# plate = np.asarray(plate)\n",
    "# mjd = np.asarray(mjd)\n",
    "\n",
    "# plate == 6151\n",
    "# mjd == 56265\n",
    "\n",
    "# trueplate = np.where(plate == 6151)[0]\n",
    "# truemjd = np.where(mjd == 56265)[0]\n",
    "# print(trueplate)\n",
    "# print(truemjd)\n",
    "# print(plate == 6151)\n",
    "# print(mjd == 56265)"
   ]
  },
  {
   "cell_type": "code",
   "execution_count": 10,
   "metadata": {},
   "outputs": [],
   "source": [
    "# plate = np.asarray(plate)\n",
    "# mjd = np.asarray(mjd)\n",
    "# fiber = np.asarray(fiber)\n",
    "\n",
    "# print(len(plate))\n",
    "\n",
    "# plate_id1 = (plate == 6151) & (mjd == 56265) & (fiber == 88)\n",
    "# plate_id2 = (plate == 7848) & (mjd == 56959) & (fiber == 965)\n",
    "# plate_id3 = (plate == 4415) & (mjd == 55831) & (fiber == 580)\n",
    "# plate_id4 = (plate == 4354) & (mjd == 55810) & (fiber == 356)\n",
    "# plate_id5 = (plate == 7147) & (mjd == 56574) & (fiber == 889)\n",
    "# plate_id6 = (plate == 6593) & (mjd == 56720) & (fiber == 170)\n",
    "\n",
    "\n",
    "    \n",
    "# true_plate1 = np.where(plate_id1)[0]\n",
    "# true_plate2 = np.where(plate_id2)[0]\n",
    "# true_plate3 = np.where(plate_id3)[0]\n",
    "# true_plate4 = np.where(plate_id4)[0]\n",
    "# true_plate5 = np.where(plate_id5)[0]\n",
    "# true_plate6 = np.where(plate_id6)[0]\n",
    "\n",
    "\n",
    "\n",
    "# print(true_plate1)\n",
    "# print(true_plate2)\n",
    "# print(true_plate3)\n",
    "# print(true_plate4)\n",
    "# print(true_plate5)\n",
    "# print(true_plate6) # only in new txt file not old, but missing"
   ]
  },
  {
   "cell_type": "code",
   "execution_count": 11,
   "metadata": {},
   "outputs": [],
   "source": [
    "#print(noise[33391])"
   ]
  },
  {
   "cell_type": "code",
   "execution_count": 12,
   "metadata": {},
   "outputs": [],
   "source": [
    "# plt.plot(wave[0], flux[0], label = str(classification[0]))\n",
    "# plt.xlabel('Wavelength')\n",
    "# plt.ylabel('Flux')"
   ]
  },
  {
   "cell_type": "code",
   "execution_count": 13,
   "metadata": {},
   "outputs": [],
   "source": [
    "QSO_highSN = []\n",
    "QSO_lowSN = []\n",
    "STAR_highSN = []\n",
    "STAR_lowSN = []\n",
    "\n",
    "for i in range(len(noise_QSO)):\n",
    "    \n",
    "    if noise_QSO[i] >= 10.:\n",
    "        QSO_highSN.append(noise_QSO[i])\n",
    "        \n",
    "    else:\n",
    "        QSO_lowSN.append(noise_QSO[i])\n",
    "        \n",
    "for i in range(len(noise_STAR)):\n",
    "    \n",
    "    if noise_STAR[i] >= 10.:\n",
    "        STAR_highSN.append(noise_STAR[i])\n",
    "        \n",
    "    else:\n",
    "        STAR_lowSN.append(noise_STAR[i])"
   ]
  },
  {
   "cell_type": "code",
   "execution_count": 14,
   "metadata": {},
   "outputs": [
    {
     "name": "stdout",
     "output_type": "stream",
     "text": [
      "6328\n",
      "66758\n",
      "23671\n",
      "47430\n"
     ]
    }
   ],
   "source": [
    "print(len(QSO_highSN))\n",
    "print(len(QSO_lowSN))\n",
    "print(len(STAR_highSN))\n",
    "print(len(STAR_lowSN))"
   ]
  },
  {
   "cell_type": "markdown",
   "metadata": {},
   "source": [
    "Create high SN cut-off at >10. Train on that and test on two different sets of low SN 1) 5-10 & 2) <= 5\n",
    "\n",
    "Train the CNN on just high SN and test on Low\n",
    "\n",
    "Train CNN on mixture of high/low SN and test on the same Low set "
   ]
  },
  {
   "cell_type": "code",
   "execution_count": 15,
   "metadata": {},
   "outputs": [
    {
     "data": {
      "text/plain": [
       "(-1, 50)"
      ]
     },
     "execution_count": 15,
     "metadata": {},
     "output_type": "execute_result"
    },
    {
     "data": {
      "image/png": "[encoded data removed]",
      "text/plain": [
       "<Figure size 432x288 with 1 Axes>"
      ]
     },
     "metadata": {
      "needs_background": "light"
     },
     "output_type": "display_data"
    }
   ],
   "source": [
    "a,b,c = plt.hist(np.asarray(noise_QSO), bins = 200)\n",
    "plt.title('SN in Quasar Sample')\n",
    "plt.xlabel('S/N Value')\n",
    "plt.ylabel('Frequency')\n",
    "plt.xlim(-1,50)"
   ]
  },
  {
   "cell_type": "code",
   "execution_count": 17,
   "metadata": {},
   "outputs": [
    {
     "data": {
      "text/plain": [
       "(-1, 50)"
      ]
     },
     "execution_count": 17,
     "metadata": {},
     "output_type": "execute_result"
    },
    {
     "data": {
      "image/png": "[encoded data removed]",
      "text/plain": [
       "<Figure size 432x288 with 1 Axes>"
      ]
     },
     "metadata": {
      "needs_background": "light"
     },
     "output_type": "display_data"
    }
   ],
   "source": [
    "a,b,c = plt.hist(np.asarray(noise_STAR), bins = 200)\n",
    "plt.title('SN in Star Sample')\n",
    "plt.xlabel('S/N Value')\n",
    "plt.ylabel('Frequency')\n",
    "plt.xlim(-1,50)"
   ]
  },
  {
   "cell_type": "code",
   "execution_count": null,
   "metadata": {},
   "outputs": [],
   "source": [
    "#plt.hist(noise[:10000], bins = 1000)"
   ]
  },
  {
   "cell_type": "code",
   "execution_count": null,
   "metadata": {},
   "outputs": [],
   "source": [
    "#plt.hist(quasar_dict1['NOISE'], bins = 1000)"
   ]
  },
  {
   "cell_type": "markdown",
   "metadata": {},
   "source": [
    "6151/spec-6151-56265-0088.fits\n",
    "7848/spec-7848-56959-0965.fits\n",
    "4415/spec-4415-55831-0580.fits\n",
    "4354/spec-4354-55810-0356.fits\n",
    "7147/spec-7147-56574-0889.fits"
   ]
  },
  {
   "cell_type": "code",
   "execution_count": null,
   "metadata": {},
   "outputs": [],
   "source": [
    "quasar_dict = reading_in_data(\"/Users/matt/Desktop/DESI_Research/DESI_ML/old/old_data/quasar_data\")\n",
    "\n",
    "star_dict = reading_in_data(\"/Users/matt/Desktop/DESI_Research/DESI_ML/old/old_data/star_data\")"
   ]
  },
  {
   "cell_type": "code",
   "execution_count": null,
   "metadata": {},
   "outputs": [],
   "source": [
    "quasar_noise = quasar_dict['NOISE']\n",
    "star_noise = star_dict['NOISE']"
   ]
  },
  {
   "cell_type": "code",
   "execution_count": null,
   "metadata": {},
   "outputs": [],
   "source": [
    "quasar_SN = np.asarray(quasar_noise)\n",
    "star_SN = np.asarray(star_noise)"
   ]
  },
  {
   "cell_type": "code",
   "execution_count": null,
   "metadata": {},
   "outputs": [],
   "source": [
    "print(len(quasar_SN))"
   ]
  },
  {
   "cell_type": "code",
   "execution_count": null,
   "metadata": {},
   "outputs": [],
   "source": [
    "highSN = []\n",
    "lowSN = []\n",
    "\n",
    "for i in range(len(quasar_SN)):\n",
    "    \n",
    "    if quasar_SN[i] >= 12.:\n",
    "        highSN.append(quasar_SN[i])\n",
    "        \n",
    "    else:\n",
    "        lowSN.append(quasar_SN[i])"
   ]
  },
  {
   "cell_type": "code",
   "execution_count": null,
   "metadata": {},
   "outputs": [],
   "source": [
    "print(len(highSN))\n",
    "print(len(lowSN))"
   ]
  },
  {
   "cell_type": "code",
   "execution_count": null,
   "metadata": {},
   "outputs": [],
   "source": [
    "a,b,c = plt.hist(quasar_SN, bins = 50)"
   ]
  },
  {
   "cell_type": "code",
   "execution_count": null,
   "metadata": {},
   "outputs": [],
   "source": [
    "a,b,c = plt.hist(star_SN, bins = 50)"
   ]
  },
  {
   "cell_type": "code",
   "execution_count": null,
   "metadata": {},
   "outputs": [],
   "source": [
    "max(star_SN)"
   ]
  },
  {
   "cell_type": "code",
   "execution_count": null,
   "metadata": {},
   "outputs": [],
   "source": []
  }
 ],
 "metadata": {
  "kernelspec": {
   "display_name": "Python 3",
   "language": "python",
   "name": "python3"
  },
  "language_info": {
   "codemirror_mode": {
    "name": "ipython",
    "version": 3
   },
   "file_extension": ".py",
   "mimetype": "text/x-python",
   "name": "python",
   "nbconvert_exporter": "python",
   "pygments_lexer": "ipython3",
   "version": "3.6.7"
  }
 },
 "nbformat": 4,
 "nbformat_minor": 2
}
