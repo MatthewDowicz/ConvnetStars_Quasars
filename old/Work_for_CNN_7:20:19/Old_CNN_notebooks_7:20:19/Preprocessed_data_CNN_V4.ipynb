{
 "cells": [
  {
   "cell_type": "code",
   "execution_count": 1,
   "metadata": {},
   "outputs": [
    {
     "name": "stderr",
     "output_type": "stream",
     "text": [
      "Using TensorFlow backend.\n"
     ]
    }
   ],
   "source": [
    "from __future__ import absolute_import, division, print_function, unicode_literals\n",
    "import keras\n",
    "from keras import regularizers\n",
    "import numpy as np\n",
    "import matplotlib.pyplot as plt\n",
    "from astropy.io import fits\n",
    "from astropy.table import Table\n",
    "import numpy as np\n",
    "import seaborn as sns\n",
    "import os\n",
    "import re\n",
    "import time\n",
    "import pickle\n",
    "import pdb\n",
    "sns.set()"
   ]
  },
  {
   "cell_type": "code",
   "execution_count": 2,
   "metadata": {},
   "outputs": [],
   "source": [
    "def reading_in_data(filename):\n",
    "    \n",
    "    filename = str(filename)\n",
    "\n",
    "    infile = open(filename,'rb')\n",
    "    new_dict = pickle.load(infile)\n",
    "    infile.close()\n",
    "    \n",
    "    return new_dict\n",
    "\n",
    "def sifting_data_dicts(quasar_dict, star_dict, min_cut, max_cut):\n",
    "    \n",
    "    # initial flux, label, wavelength, redshift, and noise for the stars and quasars\n",
    "    init_quasar_flux = quasar_dict['FLUX']\n",
    "    init_quasar_labels = quasar_dict['CLASS']\n",
    "    init_quasar_wave = quasar_dict['WAVE']\n",
    "    init_quasar_redshift = quasar_dict['REDSHIFT']\n",
    "    init_quasar_noise = quasar_dict['NOISE']\n",
    "    \n",
    "    init_star_flux = star_dict['FLUX']\n",
    "    init_star_labels = star_dict['CLASS']\n",
    "    init_star_wave = star_dict['WAVE']\n",
    "    init_star_redshift = star_dict['REDSHIFT']\n",
    "    init_star_noise = star_dict['NOISE']\n",
    "    \n",
    "    # empty lists to store the flux,labels, wavelength, redshift, and noise for the quasars & stars\n",
    "    quasar_labels = []\n",
    "    quasar_flux = []\n",
    "    quasar_wave = []\n",
    "    quasar_redshift = []\n",
    "    quasar_noise = []\n",
    "    \n",
    "    star_labels = []\n",
    "    star_flux = []\n",
    "    star_wave = []\n",
    "    star_redshift = []\n",
    "    star_noise = []\n",
    "\n",
    "    # check if the classifier actually came back as QSO and if so append to empty list\n",
    "    for i in range(len(init_quasar_labels)):\n",
    "        if (init_quasar_labels[i] == 'QSO')  & (min(init_quasar_wave[i]) <= min_cut) & \\\n",
    "        (max(init_quasar_wave[i]) >= max_cut):\n",
    "            \n",
    "            quasar_labels.append(init_quasar_labels[i])\n",
    "            quasar_flux.append(init_quasar_flux[i])\n",
    "            quasar_wave.append(init_quasar_wave[i])\n",
    "            quasar_redshift.append(init_quasar_redshift[i])\n",
    "            quasar_noise.append(init_quasar_noise[i])\n",
    "            \n",
    "        else:\n",
    "            pass\n",
    "        \n",
    "    \n",
    "    # check if the classifier actually came back as star and if so append to empty list\n",
    "    for i in range(len(init_star_labels)):\n",
    "        if (init_star_labels[i] == 'STAR') & (min(init_star_wave[i]) <= min_cut) & \\\n",
    "        (max(init_star_wave[i]) >= max_cut):\n",
    "            \n",
    "            star_labels.append(init_star_labels[i])\n",
    "            star_flux.append(init_star_flux[i])\n",
    "            star_wave.append(init_star_wave[i])\n",
    "            star_redshift.append(init_star_redshift[i])\n",
    "            star_noise.append(init_star_noise[i])\n",
    "        else:\n",
    "            pass\n",
    "        \n",
    "    data_dict = {'STAR_FLUX':star_flux, 'STAR_LABELS': star_labels, 'STAR_WAVE':star_wave, 'STAR_NOISE': star_noise,\\\n",
    "                 'STAR_REDSHIFT':star_redshift, 'QUASAR_FLUX':quasar_flux, 'QUASAR_LABELS':quasar_labels, \\\n",
    "                 'QUASAR_WAVE': quasar_wave, 'QUASAR_NOISE': quasar_noise, 'QUASAR_REDSHIFT': quasar_redshift}\n",
    "    \n",
    "    return data_dict\n",
    "\n",
    "\n",
    "                 \n",
    "\n",
    "\n",
    "def randomizing_data(data_dict, cut_len):\n",
    "    \n",
    "    quasar_flux = data_dict['QUASAR_FLUX'][:cut_len]\n",
    "    quasar_labels = data_dict['QUASAR_LABELS'][:cut_len]\n",
    "    quasar_wave = data_dict['QUASAR_WAVE'][:cut_len]\n",
    "    quasar_noise = data_dict['QUASAR_NOISE'][:cut_len]\n",
    "    quasar_redshift = data_dict['QUASAR_REDSHIFT'][:cut_len]\n",
    "    \n",
    "    star_flux = data_dict['STAR_FLUX'][:cut_len]\n",
    "    star_labels = data_dict['STAR_LABELS'][:cut_len] \n",
    "    star_wave = data_dict['STAR_WAVE'][:cut_len]\n",
    "    star_noise = data_dict['STAR_NOISE'][:cut_len]\n",
    "    star_redshift = data_dict['STAR_REDSHIFT'][:cut_len]\n",
    "\n",
    "    star_labels = np.ones(len(star_labels))\n",
    "    quasar_labels = np.zeros(len(quasar_labels))\n",
    "    \n",
    "    input_flux = star_flux + quasar_flux\n",
    "    input_flux = np.asarray(input_flux)\n",
    "    \n",
    "    input_labels = np.concatenate((star_labels,quasar_labels), axis = 0)\n",
    "    \n",
    "    input_wave = star_wave + quasar_wave\n",
    "    input_wave = np.asarray(input_wave)\n",
    "    \n",
    "    input_noise = star_noise + quasar_noise\n",
    "    input_noise = np.asarray(input_noise)\n",
    "    \n",
    "    input_redshift = star_redshift+ quasar_redshift\n",
    "    input_redshift = np.asarray(input_redshift)\n",
    "    \n",
    "    permutation = np.random.permutation(len(input_flux)) # creates the same permutation to be done on flux & labels\n",
    "    \n",
    "    # needs to be array to permute for classification\n",
    "    randomized_flux = input_flux[permutation] \n",
    "    randomized_labels = input_labels[permutation]\n",
    "    randomized_wave = input_wave[permutation]\n",
    "    randomized_noise = input_noise[permutation]\n",
    "    randomized_redshift = input_redshift[permutation]\n",
    "\n",
    "    randomized_flux = randomized_flux.tolist() # needs to be a list to be used in creating tensor function\n",
    "    \n",
    "    randomized_data = {'FLUX': randomized_flux, 'LABELS': randomized_labels, 'WAVE': randomized_wave,\\\n",
    "                      'NOISE': randomized_noise, 'REDSHIFT': randomized_redshift, 'PERMUTATION': permutation}\n",
    "    \n",
    "    return randomized_data\n",
    "\n",
    "def normalizing_data(data_dict):\n",
    "    \n",
    "    flux = data_dict['FLUX']\n",
    "    labels = data_dict['LABELS']\n",
    "    wave = data_dict['WAVE']\n",
    "    redshift = data_dict['REDSHIFT']\n",
    "    \n",
    "    max_flux = []\n",
    "    normalized_flux = []\n",
    "\n",
    "    for i in range(len(flux)):\n",
    "    \n",
    "        max_flux.append(max(flux[i]))\n",
    "        \n",
    "        edited_flux = flux[i]/max_flux[i]\n",
    "    \n",
    "        normalized_flux.append(edited_flux)\n",
    "        \n",
    "    data = {'FLUX': normalized_flux, 'LABELS': labels, 'WAVE': wave, 'REDSHIFT': redshift}\n",
    "    \n",
    "    return data\n",
    "\n",
    "def creating_image_dims(data_dict):\n",
    "    \n",
    "    flux = data_dict['FLUX']\n",
    "    wave = data_dict['WAVE']\n",
    "    labels = data_dict['LABELS']\n",
    "    redshift = data_dict['REDSHIFT']\n",
    "    cut_spec = []\n",
    "    cut_wave = []\n",
    "    \n",
    "    for i in range(len(flux)): # 3.5817\n",
    "        spec = flux[i]\n",
    "        wavelength = wave[i]\n",
    "        keepidx, = np.where((wave[i] > 3.5818) & (wave[i] < 3.95))\n",
    "        cut_spec.append(spec[keepidx])\n",
    "        cut_wave.append(wavelength[keepidx])\n",
    "    \n",
    "    data = {'FLUX': cut_spec, 'LABELS': labels, 'WAVE': cut_wave, 'REDSHIFT': redshift} #'FLUX': speclen_same\n",
    "    \n",
    "    return data\n",
    "          \n",
    "\n",
    "def creating_input_tensor(samples, height , width , channels , data_dict):\n",
    "    \n",
    "    # creates input tensor of correct dimensions\n",
    "    input_tensor = np.ones((samples, height, width, channels))\n",
    "    \n",
    "    # brings in preprocessed data to input into the dimensions of the tensor\n",
    "    processed_data = creating_image_dims(normalized_data)\n",
    "    \n",
    "    # creating the list of the same length fluxs\n",
    "    fluxlen_same = processed_data['FLUX']\n",
    "    \n",
    "    # putting the length of the fluxs lists into the first axis of the tensor, while filling the 3rd axis\n",
    "    # with that specific samples flux array\n",
    "    for i in range(samples):\n",
    "        spec = fluxlen_same[i]\n",
    "        input_tensor[i,0,:,0] = spec[:]\n",
    "        \n",
    "    data = {'IMAGES': input_tensor, 'LABELS': processed_data['LABELS']}\n",
    "        \n",
    "    return data\n",
    "\n",
    "\n",
    "def save_data_to_disk(name_file, saved_variable):\n",
    "    \n",
    "    filename = str(name_file)\n",
    "    outfile = open(filename,'wb')\n",
    "    \n",
    "    pickle.dump(saved_variable,outfile)\n",
    "    outfile.close()"
   ]
  },
  {
   "cell_type": "code",
   "execution_count": 3,
   "metadata": {},
   "outputs": [],
   "source": [
    "quasar_dict = reading_in_data('quasar_data')\n",
    "\n",
    "star_dict = reading_in_data('star_data')"
   ]
  },
  {
   "cell_type": "code",
   "execution_count": 4,
   "metadata": {},
   "outputs": [],
   "source": [
    "sifted_data_dict = sifting_data_dicts(quasar_dict, star_dict, 3.5818, 3.95) #3.5818, 3.95)"
   ]
  },
  {
   "cell_type": "code",
   "execution_count": 5,
   "metadata": {},
   "outputs": [],
   "source": [
    "randomized_data = randomizing_data(sifted_data_dict, 6986)"
   ]
  },
  {
   "cell_type": "code",
   "execution_count": 6,
   "metadata": {},
   "outputs": [],
   "source": [
    "normalized_data = normalizing_data(randomized_data)"
   ]
  },
  {
   "cell_type": "code",
   "execution_count": 16,
   "metadata": {},
   "outputs": [
    {
     "name": "stdout",
     "output_type": "stream",
     "text": [
      "4615\n",
      "4591\n"
     ]
    }
   ],
   "source": [
    "wave = normalized_data['WAVE']\n",
    "flux = normalized_data['FLUX']\n",
    "\n",
    "\n",
    "print(len(wave[0]))\n",
    "print(len(wave[9000]))"
   ]
  },
  {
   "cell_type": "code",
   "execution_count": 17,
   "metadata": {},
   "outputs": [
    {
     "name": "stdout",
     "output_type": "stream",
     "text": [
      "4601\n"
     ]
    }
   ],
   "source": [
    "print(len(normalized_data['FLUX'][4]))"
   ]
  },
  {
   "cell_type": "code",
   "execution_count": 20,
   "metadata": {},
   "outputs": [],
   "source": [
    "image_data = creating_image_dims(normalized_data)"
   ]
  },
  {
   "cell_type": "code",
   "execution_count": 21,
   "metadata": {},
   "outputs": [
    {
     "name": "stdout",
     "output_type": "stream",
     "text": [
      "3681\n",
      "3681\n"
     ]
    }
   ],
   "source": [
    "wave = image_data['WAVE']\n",
    "print(len(wave[0]))\n",
    "print(len(wave[9000]))"
   ]
  },
  {
   "cell_type": "code",
   "execution_count": 22,
   "metadata": {},
   "outputs": [
    {
     "data": {
      "text/plain": [
       "<matplotlib.legend.Legend at 0x12905e358>"
      ]
     },
     "execution_count": 22,
     "metadata": {},
     "output_type": "execute_result"
    },
    {
     "data": {
      "image/png": "[encoded data removed]",
      "text/plain": [
       "<Figure size 432x288 with 1 Axes>"
      ]
     },
     "metadata": {
      "needs_background": "light"
     },
     "output_type": "display_data"
    }
   ],
   "source": [
    "wave = image_data['WAVE']\n",
    "flux = image_data['FLUX']\n",
    "label = image_data['LABELS']\n",
    "z = image_data['REDSHIFT']\n",
    "\n",
    "# 1 is star, 0 is quasar\n",
    "\n",
    "#plt.plot(wave[17], flux[17], label = \"It is a \"+str(label[17])+\" with a redshift of \"+str(z[17]))\n",
    "plt.plot(wave[1], flux[1], label = \"It is a \"+str(label[1])+\" with a redshift of \"+str(z[1]))  \n",
    "plt.legend()"
   ]
  },
  {
   "cell_type": "code",
   "execution_count": 23,
   "metadata": {},
   "outputs": [],
   "source": [
    "#save_data_to_disk('plot_data', image_data)"
   ]
  },
  {
   "cell_type": "code",
   "execution_count": 24,
   "metadata": {},
   "outputs": [],
   "source": [
    "input_data = creating_input_tensor(13972, 1, 3681 , 1, normalized_data)"
   ]
  },
  {
   "cell_type": "code",
   "execution_count": 25,
   "metadata": {},
   "outputs": [
    {
     "data": {
      "text/plain": [
       "(13972, 1, 3681, 1)"
      ]
     },
     "execution_count": 25,
     "metadata": {},
     "output_type": "execute_result"
    }
   ],
   "source": [
    "np.shape(input_data['IMAGES'])"
   ]
  },
  {
   "cell_type": "code",
   "execution_count": 26,
   "metadata": {},
   "outputs": [
    {
     "data": {
      "text/plain": [
       "(13972,)"
      ]
     },
     "execution_count": 26,
     "metadata": {},
     "output_type": "execute_result"
    }
   ],
   "source": [
    "np.shape(input_data['LABELS'])"
   ]
  },
  {
   "cell_type": "code",
   "execution_count": 27,
   "metadata": {},
   "outputs": [],
   "source": [
    "save_data_to_disk('preprocessed_data1', input_data)"
   ]
  },
  {
   "cell_type": "code",
   "execution_count": null,
   "metadata": {},
   "outputs": [],
   "source": []
  }
 ],
 "metadata": {
  "kernelspec": {
   "display_name": "Python 3",
   "language": "python",
   "name": "python3"
  },
  "language_info": {
   "codemirror_mode": {
    "name": "ipython",
    "version": 3
   },
   "file_extension": ".py",
   "mimetype": "text/x-python",
   "name": "python",
   "nbconvert_exporter": "python",
   "pygments_lexer": "ipython3",
   "version": "3.6.7"
  }
 },
 "nbformat": 4,
 "nbformat_minor": 2
}
