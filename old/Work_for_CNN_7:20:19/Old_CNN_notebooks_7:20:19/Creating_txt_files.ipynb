{
 "cells": [
  {
   "cell_type": "code",
   "execution_count": 3,
   "metadata": {},
   "outputs": [],
   "source": [
    "from __future__ import absolute_import, division, print_function, unicode_literals\n",
    "import tensorflow as tf\n",
    "from tensorflow import keras\n",
    "import numpy as np\n",
    "import matplotlib.pyplot as plt\n",
    "from astropy.io import fits\n",
    "from astropy.table import Table\n",
    "import numpy as np\n",
    "import os\n",
    "import shutil\n",
    "import pandas as pd\n",
    "import matplotlib.pyplot as plt\n",
    "import seaborn as sns\n",
    "sns.set()"
   ]
  },
  {
   "cell_type": "code",
   "execution_count": 4,
   "metadata": {},
   "outputs": [],
   "source": [
    "def quasar_z_range(redshifts, psfmag, plate, mjd, fiberid): # this gives us the values of quasars we want\n",
    "    \n",
    "    fits_image_totalQ = fits.open(\"/Users/matt/Desktop/DESI_Research/DESI_ML/DR14_Q_spectra/DR14Q_v4_4.fits\")\n",
    "    hdul = fits_image_totalQ # this block of code is just reading in the data\n",
    "    quasar_data = hdul[\"DR14Q_v4_4\"].data\n",
    "    \n",
    "    redshift = quasar_data.field(str(redshifts)) # making the redshift vector\n",
    "    psfmagtable = quasar_data.field(str(str(psfmag))) # the light magnitudes are in a table\n",
    "    rmagvec = psfmagtable[:,2] # the r band is the 3 entry in the table, starts at 0 index\n",
    "    plate = quasar_data.field(str(plate)) # making the plate vector\n",
    "    mjd = quasar_data.field(str(mjd)) # making the mjd vector\n",
    "    fiber = quasar_data.field(str(fiberid)) # making fiber vector\n",
    "    \n",
    "    cut_redshifts = (redshift >= 2.5) & (redshift <= 3.) # gives boolean list with T in the range 2-3\n",
    "    cut_rband = rmagvec < 19.5 # the range we're looking for in r band\n",
    "    # ^ this range is opposite than what Professor Rockosi said, but it's the only way to get a sizable sample size\n",
    "    cutlist = (cut_rband) & (cut_redshifts) # ma\n",
    "    \n",
    "    filtered_plate = np.array(plate)[np.array(cutlist)] # gives the values in the ID array for the Ts in cut list\n",
    "    filtered_mjd = np.array(mjd)[np.array(cutlist)] # same as above but for the redshift array\n",
    "    filtered_fiberid = np.array(fiber)[np.array(cutlist)] # same as above but for the noise array\n",
    "    \n",
    "    cut_values = {\"PLATE\":filtered_plate, \"MJD\":filtered_mjd, \"FIBER\":filtered_fiberid} # puts these new lists\n",
    "                                                                                             # into a dictionary\n",
    "    \n",
    "    return cut_values\n",
    "\n",
    "def star_dict(filename, sep, SN):\n",
    "    # this gives the df that starts with the smallest 38898 S/N in the total df\n",
    "    #df1 = df.nsmallest(38898, 'snMedian')\n",
    "    \n",
    "    df = pd.read_csv(str(filename), sep= str(sep))\n",
    "    #df1 = df[[str(SN)]]\n",
    "    #df1 = df.nsmallest(38898, 'snMedian')\n",
    "\n",
    "\n",
    "    # gets the plate values for the smallest 38898 SN values\n",
    "    dfplate = df[['plate']]\n",
    "\n",
    "    # gets the mjd values for the smallest 38898 SN values\n",
    "    dfmjd = df[['mjd']]\n",
    "\n",
    "    # gets the fiberid values for the smallest 38898 SN values\n",
    "    dffiberid = df[['fiberid']]\n",
    "    \n",
    "    # just gives the plate values (?)\n",
    "    dfplate_arr = dfplate.values\n",
    "    dfmjd_arr = dfmjd.values\n",
    "    dffiberid_arr = dffiberid.values\n",
    "\n",
    "    # converts the arrays to lists of integers\n",
    "    int_platelist = [int(i) for i in dfplate_arr]\n",
    "    int_mjdlist = [int(i) for i in dfmjd_arr]\n",
    "    int_fiberidlist = [int(i) for i in dffiberid_arr]\n",
    "\n",
    "    #makes list of integers as arrays of integers\n",
    "    int_platearr = np.asarray(int_platelist)\n",
    "    int_mjdarr = np.asarray(int_mjdlist)\n",
    "    int_fiberidarr = np.asarray(int_fiberidlist)\n",
    "    \n",
    "    #creates dictionary of the arrays of integers for plates, mjd, fiberid bc if it was still a list\n",
    "    #the function that creates the txtfile wouldn't work\n",
    "    starvalue_dict = {\"PLATE\": int_platearr, \"MJD\": int_mjdarr, \"FIBER\": int_fiberidarr}\n",
    "    \n",
    "    return starvalue_dict\n",
    "\n",
    "\n",
    "def writeresultdict(resultsdict, outfileroot, txtfile_name, outfileprefix=None):\n",
    "    \n",
    "    mainoutfilename = outfileroot + str(txtfile_name)\n",
    "    with open(mainoutfilename, 'w') as fout:\n",
    "        donutsum = resultsdict#['donut_summary'] \n",
    "        for i in range(len(resultsdict['MJD'])):\n",
    "            outstr =  '{:04d}'.format((donutsum[\"PLATE\"][i])) + '/spec'+'-' +\\\n",
    "            '{:04d}'.format((donutsum[\"PLATE\"][i]))+ '-'+\\\n",
    "            '{:05d}'.format(donutsum[\"MJD\"][i]) + '-' + '{:04d}'.format(donutsum[\"FIBER\"][i]) +  '.fits' + '\\n'\n",
    "            fout.write(outstr)\n",
    "            \n",
    "            \n",
    "def copyfiles_fromfolder_tofolder(Root_dir,target_folder,extension):\n",
    "    RootDir1 = str(Root_dir)\n",
    "    TargetFolder = str(target_folder)\n",
    "    for root, dirs, files in os.walk((os.path.normpath(RootDir1)), topdown=False):\n",
    "        for name in files:\n",
    "            if name.endswith(str(extension)):\n",
    "                SourceFolder = os.path.join(root,name)\n",
    "                shutil.copy2(SourceFolder, TargetFolder)"
   ]
  },
  {
   "cell_type": "code",
   "execution_count": 5,
   "metadata": {},
   "outputs": [
    {
     "name": "stdout",
     "output_type": "stream",
     "text": [
      "Min plate value = 269\n",
      "Max plate value = 8873\n",
      "Number of good quasars = 7030\n"
     ]
    }
   ],
   "source": [
    "quasar_values = quasar_z_range(\"Z\", \"PSFMAG\", \"PLATE\", \"MJD\", \"FIBERID\")\n",
    "\n",
    "print(\"Min plate value = \" +str(min(quasar_values['PLATE'])))\n",
    "print(\"Max plate value = \" +str(max(quasar_values['PLATE'])))\n",
    "print('Number of good quasars = ' +str(len(quasar_values['PLATE'])))\n"
   ]
  },
  {
   "cell_type": "code",
   "execution_count": 6,
   "metadata": {},
   "outputs": [
    {
     "name": "stdout",
     "output_type": "stream",
     "text": [
      "Min plate value = 266\n",
      "Max plate value = 10000\n",
      "Number of good quasars = 38898\n"
     ]
    }
   ],
   "source": [
    "star_values = star_dict('starsformatt.csv', ',', 'snMedian')\n",
    "\n",
    "print(\"Min plate value = \" +str(min(star_values['PLATE'])))\n",
    "print(\"Max plate value = \" +str(max(star_values['PLATE'])))\n",
    "print('Number of good quasars = ' +str(len(star_values['PLATE'])))\n"
   ]
  },
  {
   "cell_type": "code",
   "execution_count": 4,
   "metadata": {},
   "outputs": [],
   "source": [
    "writeresultdict(quasar_values,\"/Users/matt/Desktop/DESI_Research/DESI_ML/\", \"quasars.txt\")"
   ]
  },
  {
   "cell_type": "code",
   "execution_count": 26,
   "metadata": {},
   "outputs": [],
   "source": [
    "writeresultdict(star_values,\"/Users/matt/Desktop/DESI_Research/DESI_ML/\", \"stars.txt\")"
   ]
  },
  {
   "cell_type": "code",
   "execution_count": 5,
   "metadata": {},
   "outputs": [],
   "source": [
    "copyfiles_fromfolder_tofolder(\"Quasars_folder\", \"Quasars_data\",\".fits\")"
   ]
  },
  {
   "cell_type": "code",
   "execution_count": 7,
   "metadata": {},
   "outputs": [],
   "source": [
    "copyfiles_fromfolder_tofolder(\"Stars_folder\", \"Stars_data\",\".fits\")"
   ]
  },
  {
   "cell_type": "code",
   "execution_count": null,
   "metadata": {},
   "outputs": [],
   "source": []
  }
 ],
 "metadata": {
  "kernelspec": {
   "display_name": "Python 3",
   "language": "python",
   "name": "python3"
  },
  "language_info": {
   "codemirror_mode": {
    "name": "ipython",
    "version": 3
   },
   "file_extension": ".py",
   "mimetype": "text/x-python",
   "name": "python",
   "nbconvert_exporter": "python",
   "pygments_lexer": "ipython3",
   "version": "3.6.7"
  }
 },
 "nbformat": 4,
 "nbformat_minor": 2
}
