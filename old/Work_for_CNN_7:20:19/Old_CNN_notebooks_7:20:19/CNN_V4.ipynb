{
 "cells": [
  {
   "cell_type": "code",
   "execution_count": 1,
   "metadata": {},
   "outputs": [
    {
     "name": "stderr",
     "output_type": "stream",
     "text": [
      "Using TensorFlow backend.\n"
     ]
    }
   ],
   "source": [
    "from __future__ import absolute_import, division, print_function, unicode_literals\n",
    "import keras\n",
    "from keras import regularizers\n",
    "import numpy as np\n",
    "import matplotlib.pyplot as plt\n",
    "from astropy.io import fits\n",
    "from astropy.table import Table\n",
    "import numpy as np\n",
    "import seaborn as sns\n",
    "import os\n",
    "import re\n",
    "import time\n",
    "import pickle\n",
    "\n",
    "sns.set()"
   ]
  },
  {
   "cell_type": "code",
   "execution_count": 2,
   "metadata": {},
   "outputs": [],
   "source": [
    "def reading_in_data(filename):\n",
    "    \n",
    "    filename = str(filename)\n",
    "\n",
    "    infile = open(filename,'rb')\n",
    "    new_dict = pickle.load(infile)\n",
    "    infile.close()\n",
    "    \n",
    "    return new_dict"
   ]
  },
  {
   "cell_type": "code",
   "execution_count": 3,
   "metadata": {},
   "outputs": [],
   "source": [
    "input_data = reading_in_data(\"preprocessed_data\")\n",
    "#input_data = reading_in_data(\"preprocessed_data1\")"
   ]
  },
  {
   "cell_type": "code",
   "execution_count": 4,
   "metadata": {},
   "outputs": [
    {
     "data": {
      "text/plain": [
       "13972"
      ]
     },
     "execution_count": 4,
     "metadata": {},
     "output_type": "execute_result"
    }
   ],
   "source": [
    "len(input_data['IMAGES'])"
   ]
  },
  {
   "cell_type": "code",
   "execution_count": 5,
   "metadata": {},
   "outputs": [
    {
     "name": "stdout",
     "output_type": "stream",
     "text": [
      "(9666, 1, 3681, 1)\n",
      "(9666,)\n",
      "(2070, 1, 3681, 1)\n",
      "(2070,)\n",
      "(2236, 1, 3681, 1)\n",
      "(2236,)\n"
     ]
    }
   ],
   "source": [
    "train_images = input_data['IMAGES'][:9666, :, :, :]\n",
    "print(np.shape(train_images))\n",
    "train_labels = input_data['LABELS'][:9666]\n",
    "print(np.shape(train_labels))\n",
    "\n",
    "val_images = input_data['IMAGES'][9666:11736, :, :, :]\n",
    "print(np.shape(val_images))\n",
    "val_labels = input_data['LABELS'][9666:11736]\n",
    "print(np.shape(val_labels))\n",
    "\n",
    "test_images = input_data['IMAGES'][11736:13972, :, :, :]\n",
    "print(np.shape(test_images))\n",
    "test_labels = input_data['LABELS'][11736:13972]\n",
    "print(np.shape(test_labels))"
   ]
  },
  {
   "cell_type": "code",
   "execution_count": 6,
   "metadata": {},
   "outputs": [
    {
     "name": "stdout",
     "output_type": "stream",
     "text": [
      "[[[0.56301564]\n",
      "  [0.51696211]\n",
      "  [0.49345914]\n",
      "  ...\n",
      "  [0.14337407]\n",
      "  [0.18616399]\n",
      "  [0.18317693]]]\n",
      "(1, 3681, 1)\n"
     ]
    }
   ],
   "source": [
    "print(train_images[0])\n",
    "print(np.shape(train_images[0]))"
   ]
  },
  {
   "cell_type": "code",
   "execution_count": 7,
   "metadata": {},
   "outputs": [
    {
     "name": "stdout",
     "output_type": "stream",
     "text": [
      "WARNING:tensorflow:From /Users/matt/anaconda3/envs/ML/lib/python3.6/site-packages/tensorflow/python/framework/op_def_library.py:263: colocate_with (from tensorflow.python.framework.ops) is deprecated and will be removed in a future version.\n",
      "Instructions for updating:\n",
      "Colocations handled automatically by placer.\n",
      "_________________________________________________________________\n",
      "Layer (type)                 Output Shape              Param #   \n",
      "=================================================================\n",
      "conv2d_1 (Conv2D)            (None, 1, 3670, 12)       156       \n",
      "_________________________________________________________________\n",
      "max_pooling2d_1 (MaxPooling2 (None, 1, 917, 12)        0         \n",
      "_________________________________________________________________\n",
      "conv2d_2 (Conv2D)            (None, 1, 912, 18)        1314      \n",
      "_________________________________________________________________\n",
      "max_pooling2d_2 (MaxPooling2 (None, 1, 228, 18)        0         \n",
      "_________________________________________________________________\n",
      "conv2d_3 (Conv2D)            (None, 1, 223, 24)        2616      \n",
      "_________________________________________________________________\n",
      "max_pooling2d_3 (MaxPooling2 (None, 1, 55, 24)         0         \n",
      "_________________________________________________________________\n",
      "flatten_1 (Flatten)          (None, 1320)              0         \n",
      "_________________________________________________________________\n",
      "dense_1 (Dense)              (None, 256)               338176    \n",
      "_________________________________________________________________\n",
      "dense_2 (Dense)              (None, 1)                 257       \n",
      "=================================================================\n",
      "Total params: 342,519\n",
      "Trainable params: 342,519\n",
      "Non-trainable params: 0\n",
      "_________________________________________________________________\n"
     ]
    }
   ],
   "source": [
    "model = keras.Sequential()\n",
    "model.add(keras.layers.Conv2D(12, (1, 12), activation='relu', input_shape=(1, 3681, 1), data_format='channels_last'))\n",
    "model.add(keras.layers.MaxPooling2D( (1, 4)))\n",
    "\n",
    "model.add(keras.layers.Conv2D(18, (1, 6), activation='relu', data_format='channels_last'))\n",
    "model.add(keras.layers.MaxPooling2D((1, 4)))\n",
    "\n",
    "model.add(keras.layers.Conv2D(24, (1, 6), activation='relu', data_format='channels_last'))\n",
    "model.add(keras.layers.MaxPooling2D((1, 4)))\n",
    "\n",
    "model.add(keras.layers.Flatten())\n",
    "model.add(keras.layers.Dense(units = 256, activation = 'relu'))\n",
    "model.add(keras.layers.Dense(units = 1, activation = 'sigmoid'))\n",
    "\n",
    "\n",
    "opt = keras.optimizers.SGD(lr = 5e-3, momentum = 0.25, decay = 1e-5)\n",
    "model.compile(loss='binary_crossentropy', optimizer = opt  , metrics = ['accuracy'])\n",
    "\n",
    "model.summary()"
   ]
  },
  {
   "cell_type": "code",
   "execution_count": 8,
   "metadata": {},
   "outputs": [
    {
     "name": "stdout",
     "output_type": "stream",
     "text": [
      "WARNING:tensorflow:From /Users/matt/anaconda3/envs/ML/lib/python3.6/site-packages/tensorflow/python/ops/math_ops.py:3066: to_int32 (from tensorflow.python.ops.math_ops) is deprecated and will be removed in a future version.\n",
      "Instructions for updating:\n",
      "Use tf.cast instead.\n",
      "Train on 9666 samples, validate on 2070 samples\n",
      "Epoch 1/20\n",
      "9666/9666 [==============================] - 11s 1ms/step - loss: 0.6612 - acc: 0.5463 - val_loss: 0.6102 - val_acc: 0.6092\n",
      "Epoch 2/20\n",
      "9666/9666 [==============================] - 10s 1ms/step - loss: 0.5629 - acc: 0.6951 - val_loss: 0.4988 - val_acc: 0.7932\n",
      "Epoch 3/20\n",
      "9666/9666 [==============================] - 10s 1ms/step - loss: 0.4604 - acc: 0.8085 - val_loss: 0.4003 - val_acc: 0.8304\n",
      "Epoch 4/20\n",
      "9666/9666 [==============================] - 10s 1ms/step - loss: 0.3778 - acc: 0.8349 - val_loss: 0.3369 - val_acc: 0.8546\n",
      "Epoch 5/20\n",
      "9666/9666 [==============================] - 10s 1ms/step - loss: 0.3024 - acc: 0.8683 - val_loss: 0.2457 - val_acc: 0.9019\n",
      "Epoch 6/20\n",
      "9666/9666 [==============================] - 10s 1ms/step - loss: 0.2026 - acc: 0.9128 - val_loss: 0.1536 - val_acc: 0.9401\n",
      "Epoch 7/20\n",
      "9666/9666 [==============================] - 10s 1ms/step - loss: 0.1247 - acc: 0.9520 - val_loss: 0.0990 - val_acc: 0.9657\n",
      "Epoch 8/20\n",
      "9666/9666 [==============================] - 10s 1ms/step - loss: 0.0861 - acc: 0.9755 - val_loss: 0.0795 - val_acc: 0.9812\n",
      "Epoch 9/20\n",
      "9666/9666 [==============================] - 10s 1ms/step - loss: 0.0684 - acc: 0.9841 - val_loss: 0.0665 - val_acc: 0.9841\n",
      "Epoch 10/20\n",
      "9666/9666 [==============================] - 10s 1ms/step - loss: 0.0590 - acc: 0.9874 - val_loss: 0.0619 - val_acc: 0.9850\n",
      "Epoch 11/20\n",
      "9666/9666 [==============================] - 10s 1ms/step - loss: 0.0542 - acc: 0.9893 - val_loss: 0.0656 - val_acc: 0.9826\n",
      "Epoch 12/20\n",
      "9666/9666 [==============================] - 10s 1ms/step - loss: 0.0494 - acc: 0.9899 - val_loss: 0.0790 - val_acc: 0.9783\n",
      "Epoch 13/20\n",
      "9666/9666 [==============================] - 10s 1ms/step - loss: 0.0494 - acc: 0.9903 - val_loss: 0.0441 - val_acc: 0.9903\n",
      "Epoch 14/20\n",
      "9666/9666 [==============================] - 10s 1ms/step - loss: 0.0494 - acc: 0.9905 - val_loss: 0.0573 - val_acc: 0.9855\n",
      "Epoch 15/20\n",
      "9666/9666 [==============================] - 10s 1ms/step - loss: 0.1007 - acc: 0.9778 - val_loss: 0.0497 - val_acc: 0.9879\n",
      "Epoch 16/20\n",
      "9666/9666 [==============================] - 10s 1ms/step - loss: 0.0450 - acc: 0.9883 - val_loss: 0.0549 - val_acc: 0.9850\n",
      "Epoch 17/20\n",
      "9666/9666 [==============================] - 10s 1ms/step - loss: 0.0404 - acc: 0.9908 - val_loss: 0.0390 - val_acc: 0.9918\n",
      "Epoch 18/20\n",
      "9666/9666 [==============================] - 10s 1ms/step - loss: 0.0368 - acc: 0.9923 - val_loss: 0.0403 - val_acc: 0.9908\n",
      "Epoch 19/20\n",
      "9666/9666 [==============================] - 10s 1ms/step - loss: 0.0341 - acc: 0.9935 - val_loss: 0.0343 - val_acc: 0.9942\n",
      "Epoch 20/20\n",
      "9666/9666 [==============================] - 10s 1ms/step - loss: 0.0316 - acc: 0.9942 - val_loss: 0.0400 - val_acc: 0.9908\n"
     ]
    }
   ],
   "source": [
    "history = model.fit(train_images,\n",
    "train_labels,\n",
    "epochs= 20,\n",
    "batch_size= 64,\n",
    "validation_data=(val_images, val_labels))"
   ]
  },
  {
   "cell_type": "code",
   "execution_count": 9,
   "metadata": {},
   "outputs": [
    {
     "name": "stdout",
     "output_type": "stream",
     "text": [
      "2236/2236 [==============================] - 1s 251us/step\n",
      "Test loss = 0.02713455776650665\n",
      "Test accuracy = 0.9937388193202147\n"
     ]
    }
   ],
   "source": [
    "test_loss, test_acc = model.evaluate(test_images, test_labels)\n",
    "\n",
    "print('Test loss = ' +str(test_loss))\n",
    "print('Test accuracy = ' +str(test_acc))"
   ]
  },
  {
   "cell_type": "code",
   "execution_count": 10,
   "metadata": {
    "scrolled": false
   },
   "outputs": [
    {
     "data": {
      "text/plain": [
       "<matplotlib.legend.Legend at 0x131264b38>"
      ]
     },
     "execution_count": 10,
     "metadata": {},
     "output_type": "execute_result"
    },
    {
     "data": {
      "image/png": "[encoded data removed]",
      "text/plain": [
       "<Figure size 432x288 with 1 Axes>"
      ]
     },
     "metadata": {
      "needs_background": "light"
     },
     "output_type": "display_data"
    }
   ],
   "source": [
    "acc = history.history['acc']\n",
    "val_acc = history.history['val_acc']\n",
    "loss = history.history['loss']\n",
    "val_loss = history.history['val_loss']\n",
    "\n",
    "epochs = range(1, len(acc) + 1)\n",
    "\n",
    "\n",
    "plt.plot(epochs, acc, 'bo', label='Training acc')\n",
    "plt.plot(epochs, val_acc, 'b', label='Validation acc')\n",
    "plt.xlabel('Epochs')\n",
    "plt.ylabel('Accuracy')\n",
    "plt.title('Training and validation accuracy')\n",
    "plt.legend()\n",
    "\n",
    "# plt.figure()\n",
    "# plt.plot(epochs, loss, 'bo', label='Training loss')\n",
    "# plt.plot(epochs, val_loss, 'b', label='Validation loss')\n",
    "# plt.title('Training and validation loss')\n",
    "# plt.xlabel('Epochs')\n",
    "# plt.ylabel('Loss')\n",
    "# plt.legend()\n",
    "# plt.show()"
   ]
  },
  {
   "cell_type": "code",
   "execution_count": null,
   "metadata": {},
   "outputs": [],
   "source": []
  },
  {
   "cell_type": "code",
   "execution_count": 11,
   "metadata": {},
   "outputs": [],
   "source": [
    "model.save('CNN_V4.h5')"
   ]
  },
  {
   "cell_type": "code",
   "execution_count": null,
   "metadata": {},
   "outputs": [],
   "source": []
  }
 ],
 "metadata": {
  "kernelspec": {
   "display_name": "Python 3",
   "language": "python",
   "name": "python3"
  },
  "language_info": {
   "codemirror_mode": {
    "name": "ipython",
    "version": 3
   },
   "file_extension": ".py",
   "mimetype": "text/x-python",
   "name": "python",
   "nbconvert_exporter": "python",
   "pygments_lexer": "ipython3",
   "version": "3.6.7"
  }
 },
 "nbformat": 4,
 "nbformat_minor": 2
}
