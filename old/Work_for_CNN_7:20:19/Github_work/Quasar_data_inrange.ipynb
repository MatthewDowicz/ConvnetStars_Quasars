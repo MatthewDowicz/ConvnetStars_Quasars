{
 "cells": [
  {
   "cell_type": "code",
   "execution_count": 1,
   "metadata": {},
   "outputs": [],
   "source": [
    "from __future__ import absolute_import, division, print_function, unicode_literals\n",
    "import tensorflow as tf\n",
    "from tensorflow import keras\n",
    "import numpy as np\n",
    "import matplotlib.pyplot as plt\n",
    "from astropy.io import fits\n",
    "from astropy.table import Table\n",
    "import numpy as np\n",
    "import matplotlib.pyplot as plt\n",
    "import seaborn as sns\n",
    "import os\n",
    "import re\n",
    "import shutil\n",
    "import time\n",
    "sns.set()"
   ]
  },
  {
   "cell_type": "code",
   "execution_count": 2,
   "metadata": {},
   "outputs": [],
   "source": [
    "def get_filenames(path='.', extension=None, pattern=None, identifiers=None, include_path=False):\n",
    "   \n",
    "    # retrieve all filenames from the directory\n",
    "    filename_list = os.listdir(path)\n",
    "    # keep all filenames with the proper extension\n",
    "    if extension is not None:\n",
    "        filename_list = [filename for filename in filename_list if\n",
    "                         filename[-len(extension):] == extension]\n",
    "    # keep all filenames that match the pattern\n",
    "    if pattern is not None:\n",
    "        filename_list = [filename for filename in filename_list if re.search(pattern, filename)]\n",
    "    # keep all filenames that match the identifiers provided\n",
    "    if identifiers is not None:\n",
    "        storage_list = []\n",
    "        try:\n",
    "            for ident in identifiers:\n",
    "                storage_list.extend([filename for filename in filename_list if str(ident) in filename])\n",
    "        except TypeError:\n",
    "            print(identifiers, 'is not a list, tuple, or otherwise iterable')\n",
    "        else:\n",
    "            filename_list = storage_list\n",
    "    if include_path:\n",
    "        filename_list = [path + filename for filename in filename_list]\n",
    "    return filename_list\n",
    "\n",
    "# gives me my list of flux arrays\n",
    "def get_filevalues(filename_list): \n",
    "    \n",
    "    list_fluxarrays = []\n",
    "    list_classtype = []\n",
    "    \n",
    "    for i in range(len(quasardata)):\n",
    "        with fits.open(\"/Users/matt/Desktop/DESI_Research/DESI_ML/good_quasars/\" +str(quasardata[i])+ \"\",\\\n",
    "                       memmap = False ) as hdul:\n",
    "            \n",
    "            data = hdul['COADD'].data\n",
    "            data1 = hdul['SPALL'].data\n",
    "            \n",
    "            flux_val = data.field(\"flux\")\n",
    "            list_fluxarrays.append(flux_val) \n",
    "            \n",
    "            classtype = data1.field('CLASS')\n",
    "            list_classtype.append(classtype)\n",
    "            \n",
    "            values = {'FLUX': list_fluxarrays, 'CLASS': list_classtype}\n",
    "            \n",
    "            hdul.close()\n",
    "            del hdul['COADD'].data\n",
    "            del hdul['PRIMARY'].data\n",
    "            del hdul['SPALL'].data\n",
    "            del hdul\n",
    "            \n",
    "    return values\n",
    "\n",
    "def preprocessing_data(flux_list, label_list):\n",
    "    \n",
    "    fluxlen_list = [len(flux_list[i]) for i in range(len(flux_list))]\n",
    "    \n",
    "    cut_fluxlen_list = [i for i in fluxlen_list if i >= 4550]\n",
    "    \n",
    "    filtered_flux_list = np.array(flux_list)[np.array(cut_fluxlen_list)]\n",
    "    \n",
    "    filtered_labels_list = np.array(label_list)[np.array(cut_fluxlen_list)]\n",
    "    \n",
    "    fluxlen_same = [filtered_flux_list[i][:4550] for i in range(len(filtered_flux_list))]\n",
    "    \n",
    "    return fluxlen_same\n",
    "\n",
    "def creating_input_tensor(samples, height, width, channels, flux_list, label_list):\n",
    "    \n",
    "    input_tensor = np.ones((samples, height, width, channels))\n",
    "    \n",
    "    fluxlen_same = preprocessing_data(flux_list, label_list)\n",
    "    \n",
    "    for i in range(samples):\n",
    "        spec = fluxlen_same[i]\n",
    "        input_tensor[i:0,:,0] = spec[:]\n",
    "        \n",
    "    return input_tensor"
   ]
  },
  {
   "cell_type": "code",
   "execution_count": 3,
   "metadata": {
    "scrolled": false
   },
   "outputs": [],
   "source": [
    "quasardata = get_filenames(\"/Users/matt/Desktop/DESI_Research/DESI_ML/good_quasars/\", extension='.fits')\n",
    "quasar_dict = get_filevalues(quasardata)"
   ]
  },
  {
   "cell_type": "code",
   "execution_count": 4,
   "metadata": {},
   "outputs": [],
   "source": [
    "quasar_flux = quasar_dict['FLUX']\n",
    "quasar_labels = quasar_dict['CLASS'] "
   ]
  },
  {
   "cell_type": "code",
   "execution_count": 5,
   "metadata": {},
   "outputs": [],
   "source": [
    "processed_quasarflux = preprocessing_data(quasar_flux, quasar_labels)\n",
    "quasar_tensor = (7948,1, 4550, 1, quasar_flux, quasar_labels) \n",
    "\n"
   ]
  },
  {
   "cell_type": "code",
   "execution_count": 12,
   "metadata": {},
   "outputs": [
    {
     "name": "stdout",
     "output_type": "stream",
     "text": [
      "(7948, 1, 4550, 1)\n"
     ]
    }
   ],
   "source": [
    "np.shape(quasar_tensor)"
   ]
  },
  {
   "cell_type": "code",
   "execution_count": 7,
   "metadata": {},
   "outputs": [
    {
     "name": "stdout",
     "output_type": "stream",
     "text": [
      "7948\n",
      "7948\n"
     ]
    }
   ],
   "source": [
    "# get list of the lengths of the flux arrays\n",
    "quasar_fluxlen_list = [len(quasar_flux[i]) for i in range(len(quasar_flux))]\n",
    "\n",
    "# create list of all the flux lengths that are greater than 4550\n",
    "cut_quasar_fluxlen_list = [i for i in quasar_fluxlen_list if i >= 4550]\n",
    "\n",
    "# creates array of the star fluxs that have a length greater than 4550\n",
    "filtered_quasar_flux_list = np.array(quasar_flux)[np.array(cut_quasar_fluxlen_list)]\n",
    "print(len(filtered_quasar_flux_list))\n",
    "\n",
    "# creates array of the star labels that correspond to \n",
    "filtered_quasar_labels_list = np.array(quasar_labels)[np.array(cut_quasar_fluxlen_list)]\n",
    "print(len(filtered_quasar_labels_list))\n",
    "\n",
    "# creates array of star fluxs that have all the same length ie len of 4550\n",
    "quasar_fluxlen_same = [filtered_quasar_flux_list[i][:4550] for i in range(len(filtered_quasar_flux_list))]\n",
    "quasarflux_same = quasar_fluxlen_same"
   ]
  },
  {
   "cell_type": "code",
   "execution_count": 8,
   "metadata": {},
   "outputs": [
    {
     "name": "stdout",
     "output_type": "stream",
     "text": [
      "(7948, 1, 4550, 1)\n"
     ]
    }
   ],
   "source": [
    "quasar_tensor = np.ones((7948,1,4550,1))\n",
    "\n",
    "for i in range(7948):\n",
    "    spec = quasarflux_same[i]\n",
    "    quasar_tensor[i,0,:,0] = spec[:]\n",
    "    \n",
    "print(np.shape(quasar_tensor))"
   ]
  },
  {
   "cell_type": "code",
   "execution_count": 9,
   "metadata": {},
   "outputs": [
    {
     "name": "stdout",
     "output_type": "stream",
     "text": [
      "[27.820717 24.073212 25.996601 27.042116 25.894186 27.190266 26.642279\n",
      " 25.34961  27.78979  29.07426 ]\n",
      "[27.82071686 24.07321167 25.9966011  27.04211617 25.89418602 27.19026566\n",
      " 26.64227867 25.34960938 27.7897892  29.07426071]\n"
     ]
    }
   ],
   "source": [
    "print((filtered_quasar_flux_list[0][100:110])) # why is the rounding different between these two?\n",
    "print((quasar_tensor[0,0,100:110,0]))"
   ]
  },
  {
   "cell_type": "code",
   "execution_count": null,
   "metadata": {},
   "outputs": [],
   "source": []
  }
 ],
 "metadata": {
  "kernelspec": {
   "display_name": "Python 3",
   "language": "python",
   "name": "python3"
  },
  "language_info": {
   "codemirror_mode": {
    "name": "ipython",
    "version": 3
   },
   "file_extension": ".py",
   "mimetype": "text/x-python",
   "name": "python",
   "nbconvert_exporter": "python",
   "pygments_lexer": "ipython3",
   "version": "3.6.7"
  }
 },
 "nbformat": 4,
 "nbformat_minor": 2
}
