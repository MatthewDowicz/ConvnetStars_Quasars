{
 "cells": [
  {
   "cell_type": "code",
   "execution_count": 1,
   "metadata": {},
   "outputs": [],
   "source": [
    "from __future__ import absolute_import, division, print_function, unicode_literals\n",
    "import tensorflow as tf\n",
    "from tensorflow import keras\n",
    "import numpy as np\n",
    "import matplotlib.pyplot as plt\n",
    "from astropy.io import fits\n",
    "from astropy.table import Table\n",
    "import numpy as np\n",
    "import matplotlib.pyplot as plt\n",
    "import seaborn as sns\n",
    "import os\n",
    "import re\n",
    "import shutil\n",
    "import time\n",
    "import pandas as pd\n",
    "sns.set()"
   ]
  },
  {
   "cell_type": "code",
   "execution_count": 2,
   "metadata": {},
   "outputs": [],
   "source": [
    "def get_filenames(path='.', extension=None, pattern=None, identifiers=None, include_path=False):\n",
    "   \n",
    "    # retrieve all filenames from the directory\n",
    "    filename_list = os.listdir(path)\n",
    "    # keep all filenames with the proper extension\n",
    "    if extension is not None:\n",
    "        filename_list = [filename for filename in filename_list if\n",
    "                         filename[-len(extension):] == extension]\n",
    "    # keep all filenames that match the pattern\n",
    "    if pattern is not None:\n",
    "        filename_list = [filename for filename in filename_list if re.search(pattern, filename)]\n",
    "    # keep all filenames that match the identifiers provided\n",
    "    if identifiers is not None:\n",
    "        storage_list = []\n",
    "        try:\n",
    "            for ident in identifiers:\n",
    "                storage_list.extend([filename for filename in filename_list if str(ident) in filename])\n",
    "        except TypeError:\n",
    "            print(identifiers, 'is not a list, tuple, or otherwise iterable')\n",
    "        else:\n",
    "            filename_list = storage_list\n",
    "    if include_path:\n",
    "        filename_list = [path + filename for filename in filename_list]\n",
    "    return filename_list\n"
   ]
  },
  {
   "cell_type": "code",
   "execution_count": 3,
   "metadata": {},
   "outputs": [],
   "source": [
    "mean_noise = 15.875008"
   ]
  },
  {
   "cell_type": "code",
   "execution_count": 4,
   "metadata": {},
   "outputs": [],
   "source": [
    "# df = pd.read_csv('starsformatt.csv', sep=',')\n",
    "# df1 = df[['snMedian']]"
   ]
  },
  {
   "cell_type": "code",
   "execution_count": 10,
   "metadata": {},
   "outputs": [],
   "source": [
    "def star_dict(filename, sep, SN):\n",
    "    # this gives the df that starts with the smallest 38898 S/N in the total df\n",
    "    #df1 = df.nsmallest(38898, 'snMedian')\n",
    "    \n",
    "    df = pd.read_csv(str(filename), sep= str(sep))\n",
    "    #df1 = df[[str(SN)]]\n",
    "    #df1 = df.nsmallest(38898, 'snMedian')\n",
    "\n",
    "\n",
    "    # gets the plate values for the smallest 38898 SN values\n",
    "    dfplate = df[['plate']]\n",
    "\n",
    "    # gets the mjd values for the smallest 38898 SN values\n",
    "    dfmjd = df[['mjd']]\n",
    "\n",
    "    # gets the fiberid values for the smallest 38898 SN values\n",
    "    dffiberid = df[['fiberid']]\n",
    "    \n",
    "    # just gives the plate values (?)\n",
    "    dfplate_arr = dfplate.values\n",
    "    dfmjd_arr = dfmjd.values\n",
    "    dffiberid_arr = dffiberid.values\n",
    "\n",
    "    # converts the arrays to lists of integers\n",
    "    int_platelist = [int(i) for i in dfplate_arr]\n",
    "    int_mjdlist = [int(i) for i in dfmjd_arr]\n",
    "    int_fiberidlist = [int(i) for i in dffiberid_arr]\n",
    "\n",
    "    #makes list of integers as arrays of integers\n",
    "    int_platearr = np.asarray(int_platelist)\n",
    "    int_mjdarr = np.asarray(int_mjdlist)\n",
    "    int_fiberidarr = np.asarray(int_fiberidlist)\n",
    "    \n",
    "    #creates dictionary of the arrays of integers for plates, mjd, fiberid bc if it was still a list\n",
    "    #the function that creates the txtfile wouldn't work\n",
    "    starvalue_dict = {\"PLATE\": int_platearr, \"MJD\": int_mjdarr, \"FIBERID\": int_fiberidarr}\n",
    "    \n",
    "    return starvalue_dict"
   ]
  },
  {
   "cell_type": "code",
   "execution_count": 11,
   "metadata": {},
   "outputs": [],
   "source": [
    "star_vals = star_dict('starsformatt.csv', ',', 'snMedian')"
   ]
  },
  {
   "cell_type": "code",
   "execution_count": 7,
   "metadata": {},
   "outputs": [],
   "source": [
    "# # this gives the df that starts with the smallest 38898 S/N in the total df\n",
    "# df1 = df.nsmallest(38898, 'snMedian')\n",
    "\n",
    "# # gets the plate values for the smallest 38898 SN values\n",
    "# dfplate = df1[['plate']]\n",
    "\n",
    "# # gets the mjd values for the smallest 38898 SN values\n",
    "# dfmjd = df1[['mjd']]\n",
    "\n",
    "# # gets the fiberid values for the smallest 38898 SN values\n",
    "# dffiberid = df1[['fiberid']]\n",
    "\n",
    "# # just gives the plate values (?)\n",
    "# dfplate_arr = dfplate.values\n",
    "# dfmjd_arr = dfmjd.values\n",
    "# dffiberid_arr = dffiberid.values\n",
    "\n",
    "# # converts the arrays to lists of integers\n",
    "# int_platelist = [int(i) for i in dfplate_arr]\n",
    "# int_mjdlist = [int(i) for i in dfmjd_arr]\n",
    "# int_fiberidlist = [int(i) for i in dffiberid_arr]\n",
    "\n",
    "# #makes list of integers as arrays of integers\n",
    "# int_platearr = np.asarray(int_platelist)\n",
    "# int_mjdarr = np.asarray(int_mjdlist)\n",
    "# int_fiberidarr = np.asarray(int_fiberidlist)\n",
    "\n",
    "# #creates dictionary of the arrays of integers for plates, mjd, fiberid bc if it was still a list\n",
    "# #the function that creates the txtfile wouldn't work\n",
    "# starvalue_dict = {\"PLATE\": int_platearr, \"MJD\": int_mjdarr, \"FIBERID\": int_fiberidarr}"
   ]
  },
  {
   "cell_type": "code",
   "execution_count": 8,
   "metadata": {},
   "outputs": [
    {
     "ename": "NameError",
     "evalue": "name 'dfplate' is not defined",
     "output_type": "error",
     "traceback": [
      "\u001b[0;31m---------------------------------------------------------------------------\u001b[0m",
      "\u001b[0;31mNameError\u001b[0m                                 Traceback (most recent call last)",
      "\u001b[0;32m<ipython-input-8-73a964d9db62>\u001b[0m in \u001b[0;36m<module>\u001b[0;34m\u001b[0m\n\u001b[0;32m----> 1\u001b[0;31m \u001b[0mdfplate_arr\u001b[0m \u001b[0;34m=\u001b[0m \u001b[0mdfplate\u001b[0m\u001b[0;34m.\u001b[0m\u001b[0mvalues\u001b[0m\u001b[0;34m\u001b[0m\u001b[0;34m\u001b[0m\u001b[0m\n\u001b[0m\u001b[1;32m      2\u001b[0m \u001b[0mprint\u001b[0m\u001b[0;34m(\u001b[0m\u001b[0mdfplate\u001b[0m\u001b[0;34m.\u001b[0m\u001b[0mvalues\u001b[0m\u001b[0;34m)\u001b[0m\u001b[0;34m\u001b[0m\u001b[0;34m\u001b[0m\u001b[0m\n",
      "\u001b[0;31mNameError\u001b[0m: name 'dfplate' is not defined"
     ]
    }
   ],
   "source": [
    "dfplate_arr = dfplate.values\n",
    "print(dfplate.values)"
   ]
  },
  {
   "cell_type": "code",
   "execution_count": null,
   "metadata": {},
   "outputs": [],
   "source": [
    "def writeresultdict(resultsdict, outfileroot, outfileprefix=None):\n",
    "    \n",
    "    mainoutfilename = outfileroot +'stars.txt'\n",
    "    with open(mainoutfilename, 'w') as fout:\n",
    "        #donutsum = resultsdict#['donut_summary'] \n",
    "        for i in range(len(resultsdict[\"PLATE\"])):\n",
    "            outstr =  '{:04d}'.format((resultsdict[\"PLATE\"][i])) + '/spec'+'-' +\\\n",
    "            '{:04d}'.format((resultsdict[\"PLATE\"][i])) + '-' + '{:d}'.format(resultsdict[\"MJD\"][i]) +\\\n",
    "            '-' + '{:04d}'.format(resultsdict[\"FIBERID\"][i]) +  '.fits' + '\\n' \n",
    "            fout.write(outstr)"
   ]
  },
  {
   "cell_type": "code",
   "execution_count": null,
   "metadata": {},
   "outputs": [],
   "source": [
    "#writeresultdict(starvalue_dict,\"/Users/matt/Desktop/DESI_Research/DESI_ML/\")"
   ]
  },
  {
   "cell_type": "code",
   "execution_count": null,
   "metadata": {},
   "outputs": [],
   "source": []
  },
  {
   "cell_type": "code",
   "execution_count": null,
   "metadata": {},
   "outputs": [],
   "source": []
  }
 ],
 "metadata": {
  "kernelspec": {
   "display_name": "Python 3",
   "language": "python",
   "name": "python3"
  },
  "language_info": {
   "codemirror_mode": {
    "name": "ipython",
    "version": 3
   },
   "file_extension": ".py",
   "mimetype": "text/x-python",
   "name": "python",
   "nbconvert_exporter": "python",
   "pygments_lexer": "ipython3",
   "version": "3.6.7"
  }
 },
 "nbformat": 4,
 "nbformat_minor": 2
}
