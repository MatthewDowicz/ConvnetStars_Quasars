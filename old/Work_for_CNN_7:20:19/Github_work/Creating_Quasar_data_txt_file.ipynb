{
 "cells": [
  {
   "cell_type": "code",
   "execution_count": 1,
   "metadata": {},
   "outputs": [],
   "source": [
    "from __future__ import absolute_import, division, print_function, unicode_literals\n",
    "import tensorflow as tf\n",
    "from tensorflow import keras\n",
    "import numpy as np\n",
    "import matplotlib.pyplot as plt\n",
    "from astropy.io import fits\n",
    "from astropy.table import Table\n",
    "import numpy as np\n",
    "import os\n",
    "import shutil\n",
    "\n",
    "import matplotlib.pyplot as plt\n",
    "import seaborn as sns\n",
    "sns.set()"
   ]
  },
  {
   "cell_type": "code",
   "execution_count": 10,
   "metadata": {},
   "outputs": [],
   "source": [
    "def quasar_z_range(redshifts, psfmag, plate, mjd, fiberid): # this gives us the values of quasars we want\n",
    "    \n",
    "    fits_image_totalQ = fits.open(\"/Users/matt/Desktop/DESI_Research/DESI_ML/DR14_Q_spectra/DR14Q_v4_4.fits\")\n",
    "    hdul = fits_image_totalQ # this block of code is just reading in the data\n",
    "    quasar_data = hdul[\"DR14Q_v4_4\"].data\n",
    "    \n",
    "    redshift = quasar_data.field(str(redshifts)) # making the redshift vector\n",
    "    psfmagtable = quasar_data.field(str(str(psfmag))) # the light magnitudes are in a table\n",
    "    rmagvec = psfmagtable[:,2] # the r band is the 3 entry in the table, starts at 0 index\n",
    "    plate = quasar_data.field(str(plate)) # making the plate vector\n",
    "    mjd = quasar_data.field(str(mjd)) # making the mjd vector\n",
    "    fiber = quasar_data.field(str(fiberid)) # making fiber vector\n",
    "    \n",
    "    cut_redshifts = (redshift >= 2.) & (redshift <= 3.) # gives boolean list with T in the range 2-3\n",
    "    cut_rband = rmagvec < 19.5 # the range we're looking for in r band\n",
    "    # ^ this range is opposite than what Professor Rockosi said, but it's the only way to get a sizable sample size\n",
    "    cutlist = (cut_rband) & (cut_redshifts) # ma\n",
    "    \n",
    "    filtered_plate = np.array(plate)[np.array(cutlist)] # gives the values in the ID array for the Ts in cut list\n",
    "    filtered_mjd = np.array(mjd)[np.array(cutlist)] # same as above but for the redshift array\n",
    "    filtered_fiberid = np.array(fiber)[np.array(cutlist)] # same as above but for the noise array\n",
    "    \n",
    "    cut_values = {\"PLATE\":filtered_plate, \"MJD\":filtered_mjd, \"FIBER\":filtered_fiberid} # puts these new lists\n",
    "                                                                                             # into a dictionary\n",
    "    \n",
    "    return cut_values\n",
    "\n",
    "\n",
    "def in_range_quasars(redshifts, psfmag, plate, mjd, fiberid): # this gives the indice values of the quasars we want\n",
    "    \n",
    "    fits_image_totalQ = fits.open(\"/Users/matt/Desktop/DESI_Research/DESI_ML/DR14_Q_spectra/DR14Q_v4_4.fits\")\n",
    "    hdul = fits_image_totalQ # this block of code is just reading in the data\n",
    "    quasar_data = hdul[\"DR14Q_v4_4\"].data\n",
    "    \n",
    "    redshift = quasar_data.field(str(redshifts)) # making the redshift vector\n",
    "    psfmagtable = quasar_data.field(str(str(psfmag))) # the light magnitudes are in a table\n",
    "    rmagvec = psfmagtable[:,2] # the r band is the 3 entry in the table, starts at 0 index\n",
    "    \n",
    "    plate = quasar_data.field(str(plate)) # making the plate vector\n",
    "    mjd = quasar_data.field(str(mjd)) # making the mjd vector\n",
    "    fiber = quasar_data.field(str(fiberid)) # making fiber vector\n",
    "    \n",
    "    cut_redshifts = (redshift >= 1.8) & (redshift <= 2.2) # interval range we are looking at in redshift\n",
    "    cut_rband = rmagvec <= 17. # the range we're looking for in r band\n",
    "    # ^ this range is opposite than what Professor Rockosi said, but it's the only way to get a sizable sample size\n",
    "    cutlist = (cut_rband) & (cut_redshifts) # making a boolean statement saying the quasar must be in the z & r range\n",
    "    \n",
    "    cut_plate = (cutlist) # making the boolean plate array with Ts & Fs\n",
    "    cut_mjd = (cutlist) # \"\" mjd array \"\"\n",
    "    cut_fiber = (cutlist) # \"\" fiber array \"\"\n",
    "    \n",
    "    true_plate = np.where(cut_plate)[0] # gives me the index values all the Ts in the plate array len ~ 80k quasars\n",
    "    true_mjd = np.where(cut_mjd)[0] # \"\" mjd array\n",
    "    true_fiber = np.where(cut_fiber)[0] # \"\" fiber array\n",
    "\n",
    "    \n",
    "    dict_values = {\"PLATE\":true_plate, \"MJD\":true_mjd, \"FIBER\":true_fiber} #, 'RBAND':cut_rband, \"REDSHIFT\":cut_redshifts}\n",
    "    # ^ creates a dictionary for all the values I want to access\n",
    "    \n",
    "    return dict_values\n",
    "\n",
    "\n",
    "def writeresultdict(resultsdict, outfileroot, outfileprefix=None):\n",
    "    \n",
    "    mainoutfilename = outfileroot +'all_quasars.txt'\n",
    "    with open(mainoutfilename, 'w') as fout:\n",
    "        donutsum = resultsdict#['donut_summary'] \n",
    "        for i in range(len(resultsdict['FIBER'])):\n",
    "            outstr =  '{:04d}'.format((donutsum[\"PLATE\"][i])) + '/spec'+'-' +'{:04d}'.format((donutsum[\"PLATE\"][i]))+ '-'+\\\n",
    "            '{:05d}'.format(donutsum[\"MJD\"][i]) + '-' + '{:04d}'.format(donutsum[\"FIBER\"][i]) +  '.fits' + '\\n'\n",
    "            fout.write(outstr)"
   ]
  },
  {
   "cell_type": "code",
   "execution_count": 11,
   "metadata": {},
   "outputs": [
    {
     "name": "stdout",
     "output_type": "stream",
     "text": [
      "Min plate value = 267\n",
      "Max plate value = 10000\n",
      "Number of good quasars = 21761\n"
     ]
    }
   ],
   "source": [
    "# intervalquasars = in_range_quasars(\"Z\", \"PSFMAG\", \"PLATE\", \"MJD\", \"FIBERID\")\n",
    "# writeresultdict(intervalquasars,\"/Users/matt/Desktop/DESI_Research/DESI_ML/\")\n",
    "\n",
    "quasar_values = quasar_z_range(\"Z\", \"PSFMAG\", \"PLATE\", \"MJD\", \"FIBERID\")\n",
    "\n",
    "print(\"Min plate value = \" +str(min(quasar_values['PLATE'])))\n",
    "print(\"Max plate value = \" +str(max(quasar_values['PLATE'])))\n",
    "print('Number of good quasars = ' +str(len(quasar_values['PLATE'])))\n"
   ]
  },
  {
   "cell_type": "code",
   "execution_count": 12,
   "metadata": {},
   "outputs": [
    {
     "name": "stdout",
     "output_type": "stream",
     "text": [
      "7850\n"
     ]
    }
   ],
   "source": [
    "print(quasar_values['PLATE'][2])"
   ]
  },
  {
   "cell_type": "code",
   "execution_count": 5,
   "metadata": {},
   "outputs": [],
   "source": [
    "writeresultdict(quasar_values,\"/Users/matt/Desktop/DESI_Research/DESI_ML/\")"
   ]
  },
  {
   "cell_type": "code",
   "execution_count": 6,
   "metadata": {},
   "outputs": [],
   "source": [
    "fits_image_totalQ = fits.open(\"/Users/matt/Desktop/DESI_Research/DESI_ML/DR14_Q_spectra/DR14Q_v4_4.fits\")\n",
    "hdul = fits_image_totalQ # this block of code is just reading in the data\n",
    "quasar_data = hdul[\"DR14Q_v4_4\"].data"
   ]
  },
  {
   "cell_type": "code",
   "execution_count": 7,
   "metadata": {},
   "outputs": [
    {
     "data": {
      "text/html": [
       "<i>Table length=526356</i>\n",
       "<table id=\"table4944252712\" class=\"table-striped table-bordered table-condensed\">\n",
       "<thead><tr><th>SDSS_NAME</th><th>RA</th><th>DEC</th><th>THING_ID</th><th>PLATE</th><th>MJD</th><th>FIBERID</th><th>SPECTRO</th><th>Z</th><th>Z_ERR</th><th>SOURCE_Z</th><th>Z_VI</th><th>Z_PIPE</th><th>Z_PIPE_ERR</th><th>ZWARNING</th><th>Z_PCA</th><th>Z_PCA_ER</th><th>Z_MGII</th><th>BOSS_TARGET1</th><th>ANCILLARY_TARGET1</th><th>ANCILLARY_TARGET2</th><th>EBOSS_TARGET0</th><th>EBOSS_TARGET1</th><th>EBOSS_TARGET2</th><th>N_SPEC_SDSS</th><th>N_SPEC_BOSS</th><th>N_SPEC</th><th>PLATE_DUPLICATE [51]</th><th>MJD_DUPLICATE [51]</th><th>FIBERID_DUPLICATE [51]</th><th>SPECTRO_DUPLICATE [51]</th><th>BI_CIV</th><th>ERR_BI_CIV</th><th>RUN_NUMBER</th><th>RERUN_NUMBER</th><th>COL_NUMBER</th><th>FIELD_NUMBER</th><th>OBJ_ID</th><th>PSFFLUX [5]</th><th>IVAR_PSFFLUX [5]</th><th>PSFMAG [5]</th><th>ERR_PSFMAG [5]</th><th>MI</th><th>GAL_EXT [5]</th><th>RASS_COUNTS</th><th>RASS_COUNTS_SNR</th><th>SDSS2ROSAT_SEP</th><th>FLUX_0.2_2.0keV</th><th>FLUX_0.2_2.0keV_ERR</th><th>FLUX_2.0_12.0keV</th><th>FLUX_2.0_12.0keV_ERR</th><th>FLUX_0.2_12.0keV</th><th>FLUX_0.2_12.0keV_ERR</th><th>LUM_0.2_12.0keV</th><th>SDSS2XMM_SEP</th><th>GALEX_MATCHED</th><th>FUV</th><th>FUV_IVAR</th><th>NUV</th><th>NUV_IVAR</th><th>JMAG</th><th>ERR_JMAG</th><th>JSNR</th><th>JRDFLAG</th><th>HMAG</th><th>ERR_HMAG</th><th>HSNR</th><th>HRDFLAG</th><th>KMAG</th><th>ERR_KMAG</th><th>KSNR</th><th>KRDFLAG</th><th>SDSS2MASS_SEP</th><th>W1MAG</th><th>ERR_W1MAG</th><th>W1SNR</th><th>W1CHI2</th><th>W2MAG</th><th>ERR_W2MAG</th><th>W2SNR</th><th>W2CHI2</th><th>W3MAG</th><th>ERR_W3MAG</th><th>W3SNR</th><th>W3CHI2</th><th>W4MAG</th><th>ERR_W4MAG</th><th>W4SNR</th><th>W4CHI2</th><th>CC_FLAGS</th><th>PH_FLAGS</th><th>SDSS2WISE_SEP</th><th>UKIDSS_MATCHED</th><th>YFLUX</th><th>YFLUX_ERR</th><th>JFLUX</th><th>JFLUX_ERR</th><th>HFLUX</th><th>HFLUX_ERR</th><th>KFLUX</th><th>KFLUX_ERR</th><th>FIRST_MATCHED</th><th>FIRST_FLUX</th><th>FIRST_SNR</th><th>SDSS2FIRST_SEP</th></tr></thead>\n",
       "<thead><tr><th>str18</th><th>float64</th><th>float64</th><th>int32</th><th>int16</th><th>int32</th><th>int16</th><th>str4</th><th>float64</th><th>float64</th><th>str4</th><th>float64</th><th>float64</th><th>float64</th><th>int16</th><th>float64</th><th>float64</th><th>float64</th><th>int64</th><th>int64</th><th>int64</th><th>int64</th><th>int64</th><th>int64</th><th>int16</th><th>int16</th><th>int16</th><th>int32</th><th>int32</th><th>int32</th><th>str1</th><th>float64</th><th>float64</th><th>int16</th><th>str1</th><th>int16</th><th>int16</th><th>str1</th><th>float64</th><th>float64</th><th>float64</th><th>float64</th><th>float64</th><th>float64</th><th>float64</th><th>float64</th><th>float64</th><th>float64</th><th>float64</th><th>float64</th><th>float64</th><th>float64</th><th>float64</th><th>float64</th><th>float64</th><th>float32</th><th>float64</th><th>float64</th><th>float64</th><th>float64</th><th>float64</th><th>float64</th><th>float32</th><th>int16</th><th>float64</th><th>float64</th><th>float32</th><th>int16</th><th>float64</th><th>float64</th><th>float32</th><th>int16</th><th>float64</th><th>float64</th><th>float64</th><th>float64</th><th>float64</th><th>float64</th><th>float64</th><th>float64</th><th>float64</th><th>float64</th><th>float64</th><th>float64</th><th>float64</th><th>float64</th><th>float64</th><th>float64</th><th>float64</th><th>str4</th><th>str4</th><th>float64</th><th>float32</th><th>float64</th><th>float64</th><th>float64</th><th>float64</th><th>float64</th><th>float64</th><th>float64</th><th>float64</th><th>int16</th><th>float64</th><th>float64</th><th>float64</th></tr></thead>\n",
       "<tr><td>000000.45+174625.4</td><td>0.001898274356335605</td><td>17.773739123771385</td><td>268270422</td><td>7596</td><td>56945</td><td>162</td><td>BOSS</td><td>2.309</td><td>0.0</td><td>VI</td><td>2.309000015258789</td><td>2.307750701904297</td><td>0.0010300044668838382</td><td>0</td><td>2.3045657000000004</td><td>-1.0</td><td>-1.0</td><td>0</td><td>0</td><td>0</td><td>0</td><td>4096</td><td>0</td><td>0</td><td>1</td><td>1</td><td>0 .. -1</td><td>0 .. -1</td><td>0 .. -1</td><td>- .. -</td><td>0.0</td><td>0.0</td><td>0</td><td>-</td><td>0</td><td>0</td><td>-</td><td>1.0379366874694824 .. 2.631136417388916</td><td>12.372532844543457 .. 0.8706143498420715</td><td>22.440338134765625 .. 21.372461318969727</td><td>0.2871243953704834 .. 0.38545534014701843</td><td>-24.410782</td><td>0.12021728605031967 .. 0.03581845760345459</td><td>0.0</td><td>0.0</td><td>-1.0</td><td>nan</td><td>nan</td><td>nan</td><td>nan</td><td>nan</td><td>nan</td><td>nan</td><td>nan</td><td>1.0</td><td>0.30231887102127075</td><td>8.785573140381722</td><td>0.7275648713111877</td><td>4.537358964921044</td><td>nan</td><td>nan</td><td>nan</td><td>-1</td><td>nan</td><td>nan</td><td>nan</td><td>-1</td><td>nan</td><td>nan</td><td>nan</td><td>-1</td><td>nan</td><td>nan</td><td>nan</td><td>nan</td><td>nan</td><td>nan</td><td>nan</td><td>nan</td><td>nan</td><td>nan</td><td>nan</td><td>nan</td><td>nan</td><td>nan</td><td>nan</td><td>nan</td><td>nan</td><td></td><td></td><td>nan</td><td>0.0</td><td>0.0</td><td>0.0</td><td>0.0</td><td>0.0</td><td>0.0</td><td>0.0</td><td>0.0</td><td>0.0</td><td>-1</td><td>-1.0</td><td>-1.0</td><td>-1.0</td></tr>\n",
       "<tr><td>000000.57+055630.8</td><td>0.0023754761888312714</td><td>5.941903005523435</td><td>163544156</td><td>8740</td><td>57367</td><td>694</td><td>BOSS</td><td>2.1031202999999996</td><td>0.0</td><td>AUTO</td><td>-1.0</td><td>2.1031203269958496</td><td>0.0009241577354259787</td><td>0</td><td>2.0996384999999997</td><td>2.0983490000000002</td><td>2.0983490000000002</td><td>0</td><td>0</td><td>0</td><td>0</td><td>2048</td><td>0</td><td>0</td><td>0</td><td>0</td><td>-1 .. -1</td><td>-1 .. -1</td><td>-1 .. -1</td><td>- .. -</td><td>0.0</td><td>0.0</td><td>0</td><td>-</td><td>0</td><td>0</td><td>-</td><td>1.1197296380996704 .. 4.730101585388184</td><td>9.196866035461426 .. 0.8192309737205505</td><td>22.360628128051758 .. 20.78717613220215</td><td>0.3101848363876343 .. 0.2420300394296646</td><td>-24.732</td><td>0.2338263988494873 .. 0.06966802477836609</td><td>0.0</td><td>0.0</td><td>-1.0</td><td>nan</td><td>nan</td><td>nan</td><td>nan</td><td>nan</td><td>nan</td><td>nan</td><td>nan</td><td>1.0</td><td>0.0</td><td>0.0</td><td>0.0</td><td>0.0</td><td>nan</td><td>nan</td><td>nan</td><td>-1</td><td>nan</td><td>nan</td><td>nan</td><td>-1</td><td>nan</td><td>nan</td><td>nan</td><td>-1</td><td>nan</td><td>16.969</td><td>0.127</td><td>8.5</td><td>0.9904</td><td>16.887999999999998</td><td>0.409</td><td>2.700000047683716</td><td>1.004</td><td>11.861</td><td>nan</td><td>1.399999976158142</td><td>0.9819</td><td>8.604</td><td>0.127</td><td>0.699999988079071</td><td>0.9478</td><td>hH00</td><td>BCUU</td><td>0.706171</td><td>1.0</td><td>1.2885136657753169e-31</td><td>2.4790984841010035e-32</td><td>1.229889058862803e-31</td><td>4.504542253745802e-32</td><td>1.496424644649041e-31</td><td>4.7290496259357616e-32</td><td>2.4598190249290145e-31</td><td>5.689571920868372e-32</td><td>0</td><td>-1.0</td><td>-1.0</td><td>-1.0</td></tr>\n",
       "<tr><td>000000.66+145828.8</td><td>0.002756432550313548</td><td>14.974675485824303</td><td>244864389</td><td>6177</td><td>56268</td><td>595</td><td>BOSS</td><td>2.497</td><td>0.0</td><td>VI</td><td>2.496999979019165</td><td>2.49796199798584</td><td>0.0008690897957421839</td><td>0</td><td>2.5099661</td><td>-1.0</td><td>-1.0</td><td>2199023255552</td><td>0</td><td>0</td><td>0</td><td>0</td><td>0</td><td>0</td><td>1</td><td>1</td><td>0 .. -1</td><td>0 .. -1</td><td>0 .. -1</td><td>- .. -</td><td>0.0</td><td>0.0</td><td>0</td><td>-</td><td>0</td><td>0</td><td>-</td><td>1.660184383392334 .. 5.348500728607178</td><td>15.485949516296387 .. 0.861799418926239</td><td>21.94196891784668 .. 20.659208297729492</td><td>0.16387343406677246 .. 0.21075020730495453</td><td>-25.664871</td><td>0.16341499984264374 .. 0.048689112067222595</td><td>0.0</td><td>0.0</td><td>-1.0</td><td>nan</td><td>nan</td><td>nan</td><td>nan</td><td>nan</td><td>nan</td><td>nan</td><td>nan</td><td>1.0</td><td>0.04631861299276352</td><td>701.1042837308206</td><td>0.05252976343035698</td><td>384.75096219826605</td><td>nan</td><td>nan</td><td>nan</td><td>-1</td><td>nan</td><td>nan</td><td>nan</td><td>-1</td><td>nan</td><td>nan</td><td>nan</td><td>-1</td><td>nan</td><td>17.5</td><td>0.185</td><td>5.900000095367432</td><td>0.9299</td><td>16.206</td><td>0.211</td><td>5.199999809265137</td><td>0.8249</td><td>12.321</td><td>nan</td><td>0.30000001192092896</td><td>1.149</td><td>8.51</td><td>0.185</td><td>0.699999988079071</td><td>1.036</td><td>0000</td><td>BBUU</td><td>0.495515</td><td>1.0</td><td>1.8603829687921641e-31</td><td>3.147684406018196e-32</td><td>2.310947837572515e-31</td><td>4.565332356351401e-32</td><td>2.355314285756731e-31</td><td>5.970480393631547e-32</td><td>2.427149215733221e-31</td><td>6.521724355219432e-32</td><td>0</td><td>-1.0</td><td>-1.0</td><td>-1.0</td></tr>\n",
       "<tr><td>000000.97+044947.2</td><td>0.004052389452795069</td><td>4.829780562529699</td><td>154078229</td><td>4415</td><td>55831</td><td>464</td><td>BOSS</td><td>1.619</td><td>0.0</td><td>VI</td><td>1.61899995803833</td><td>1.6172041893005369</td><td>0.00048571047955192636</td><td>0</td><td>1.6273098</td><td>1.6304535</td><td>1.6304535</td><td>2199023910912</td><td>0</td><td>0</td><td>0</td><td>0</td><td>0</td><td>0</td><td>0</td><td>0</td><td>-1 .. -1</td><td>-1 .. -1</td><td>-1 .. -1</td><td>- .. -</td><td>0.0</td><td>0.0</td><td>0</td><td>-</td><td>0</td><td>0</td><td>-</td><td>6.689760208129883 .. 19.600666046142578</td><td>7.062735080718994 .. 0.5412449240684509</td><td>20.435998916625977 .. 19.267778396606445</td><td>0.061016492545604706 .. 0.07507961243391037</td><td>-25.806284</td><td>0.13920745253562927 .. 0.0414765328168869</td><td>0.0</td><td>0.0</td><td>-1.0</td><td>nan</td><td>nan</td><td>nan</td><td>nan</td><td>nan</td><td>nan</td><td>nan</td><td>nan</td><td>1.0</td><td>0.349308043718338</td><td>22.587234277440285</td><td>1.573292851448059</td><td>13.871135159044835</td><td>nan</td><td>nan</td><td>nan</td><td>-1</td><td>nan</td><td>nan</td><td>nan</td><td>-1</td><td>nan</td><td>nan</td><td>nan</td><td>-1</td><td>nan</td><td>15.503</td><td>0.044</td><td>24.5</td><td>0.9052</td><td>13.987</td><td>0.044</td><td>24.5</td><td>0.913</td><td>10.764</td><td>0.112</td><td>9.699999809265137</td><td>0.9418</td><td>8.056000000000001</td><td>0.044</td><td>5.300000190734863</td><td>1.052</td><td>0000</td><td>AABB</td><td>0.26852</td><td>1.0</td><td>5.5254370569158805e-31</td><td>3.5955865449950646e-32</td><td>6.597499659809314e-31</td><td>4.1546516582461446e-32</td><td>9.038159772512016e-31</td><td>4.4203324833151824e-32</td><td>8.567425066363647e-31</td><td>5.178768491431826e-32</td><td>0</td><td>-1.0</td><td>-1.0</td><td>-1.0</td></tr>\n",
       "<tr><td>000001.20+240354.5</td><td>0.005025713552072375</td><td>24.06516252954585</td><td>319918739</td><td>7666</td><td>57339</td><td>121</td><td>BOSS</td><td>1.6162103</td><td>0.0</td><td>AUTO</td><td>-1.0</td><td>1.6162103414535522</td><td>0.0007267744513228536</td><td>0</td><td>1.6146076</td><td>1.616566</td><td>1.616566</td><td>0</td><td>0</td><td>0</td><td>0</td><td>1024</td><td>0</td><td>0</td><td>0</td><td>0</td><td>-1 .. -1</td><td>-1 .. -1</td><td>-1 .. -1</td><td>- .. -</td><td>0.0</td><td>0.0</td><td>0</td><td>-</td><td>0</td><td>0</td><td>-</td><td>1.6189976930618286 .. 9.2546968460083</td><td>20.38020896911621 .. 1.2987148761749268</td><td>21.968854904174805 .. 20.077219009399414</td><td>0.14637739956378937 .. 0.10165335237979889</td><td>-24.794746</td><td>0.4501841962337494 .. 0.1341313123703003</td><td>0.0</td><td>0.0</td><td>-1.0</td><td>nan</td><td>nan</td><td>nan</td><td>nan</td><td>nan</td><td>nan</td><td>nan</td><td>nan</td><td>1.0</td><td>-0.11732663959264755</td><td>56.64157225013953</td><td>-0.021669752895832062</td><td>82.53654303962783</td><td>nan</td><td>nan</td><td>nan</td><td>-1</td><td>nan</td><td>nan</td><td>nan</td><td>-1</td><td>nan</td><td>nan</td><td>nan</td><td>-1</td><td>nan</td><td>16.366</td><td>0.07200000000000001</td><td>15.0</td><td>1.052</td><td>15.447</td><td>0.11</td><td>9.899999618530273</td><td>0.9336</td><td>12.434</td><td>nan</td><td>0.20000000298023224</td><td>0.9305</td><td>8.398</td><td>0.07200000000000001</td><td>0.800000011920929</td><td>0.9579</td><td>0000</td><td>ABUU</td><td>0.110225</td><td>0.0</td><td>0.0</td><td>0.0</td><td>0.0</td><td>0.0</td><td>0.0</td><td>0.0</td><td>0.0</td><td>0.0</td><td>-1</td><td>-1.0</td><td>-1.0</td><td>-1.0</td></tr>\n",
       "<tr><td>000001.27-020159.7</td><td>0.005316971570891838</td><td>-2.033273291001564</td><td>62120483</td><td>4354</td><td>55810</td><td>678</td><td>BOSS</td><td>1.36</td><td>0.0</td><td>VI</td><td>1.3600000143051147</td><td>1.3604756593704224</td><td>0.0004507622215896845</td><td>0</td><td>1.3619123</td><td>1.3622836</td><td>1.3622836</td><td>262144</td><td>0</td><td>0</td><td>0</td><td>0</td><td>0</td><td>0</td><td>0</td><td>0</td><td>-1 .. -1</td><td>-1 .. -1</td><td>-1 .. -1</td><td>- .. -</td><td>0.0</td><td>0.0</td><td>0</td><td>-</td><td>0</td><td>0</td><td>-</td><td>5.7982611656188965 .. 28.749858856201172</td><td>10.57221794128418 .. 1.0262092351913452</td><td>20.591123580932617 .. 18.852691650390625</td><td>0.0575224943459034 .. 0.037230249494314194</td><td>-25.890327</td><td>0.1619756519794464 .. 0.04826026037335396</td><td>0.0</td><td>0.0</td><td>-1.0</td><td>nan</td><td>nan</td><td>nan</td><td>nan</td><td>nan</td><td>nan</td><td>nan</td><td>nan</td><td>1.0</td><td>0.0</td><td>0.0</td><td>0.0</td><td>0.0</td><td>nan</td><td>nan</td><td>nan</td><td>-1</td><td>nan</td><td>nan</td><td>nan</td><td>-1</td><td>nan</td><td>nan</td><td>nan</td><td>-1</td><td>nan</td><td>14.888</td><td>0.034</td><td>32.0</td><td>1.105</td><td>13.519</td><td>0.035</td><td>31.299999237060547</td><td>0.9211</td><td>10.444</td><td>0.08800000000000001</td><td>12.300000190734863</td><td>0.9571</td><td>8.145</td><td>0.034</td><td>4.199999809265137</td><td>1.038</td><td>0000</td><td>AAAB</td><td>0.092102</td><td>0.0</td><td>0.0</td><td>0.0</td><td>0.0</td><td>0.0</td><td>0.0</td><td>0.0</td><td>0.0</td><td>0.0</td><td>1</td><td>1.26</td><td>7.048389</td><td>0.57105</td></tr>\n",
       "<tr><td>000001.37-011930.0</td><td>0.005746209112004408</td><td>-1.3250088011125059</td><td>66666942</td><td>4354</td><td>55810</td><td>646</td><td>BOSS</td><td>2.3280000000000003</td><td>0.0</td><td>VI</td><td>2.328000068664551</td><td>2.333164691925049</td><td>0.0001957574422704056</td><td>0</td><td>2.3350306</td><td>2.3483452999999996</td><td>2.3483452999999996</td><td>16492675088384</td><td>0</td><td>0</td><td>0</td><td>0</td><td>0</td><td>0</td><td>0</td><td>0</td><td>-1 .. -1</td><td>-1 .. -1</td><td>-1 .. -1</td><td>- .. -</td><td>0.0</td><td>0.0</td><td>0</td><td>-</td><td>0</td><td>0</td><td>-</td><td>5.298428535461426 .. 10.920283317565918</td><td>7.55182409286499 .. 0.9089431166648865</td><td>20.688875198364258 .. 19.899463653564453</td><td>0.07446388900279999 .. 0.10334030538797379</td><td>-26.184576</td><td>0.186440572142601 .. 0.05554952844977379</td><td>0.0</td><td>0.0</td><td>-1.0</td><td>nan</td><td>nan</td><td>nan</td><td>nan</td><td>nan</td><td>nan</td><td>nan</td><td>nan</td><td>1.0</td><td>0.09291329234838486</td><td>44.988086770623894</td><td>0.22756947576999664</td><td>2.5174224638761955</td><td>nan</td><td>nan</td><td>nan</td><td>-1</td><td>nan</td><td>nan</td><td>nan</td><td>-1</td><td>nan</td><td>nan</td><td>nan</td><td>-1</td><td>nan</td><td>16.72</td><td>0.103</td><td>10.600000381469727</td><td>1.038</td><td>15.929</td><td>0.16699999999999998</td><td>6.5</td><td>0.9004</td><td>11.903</td><td>0.285</td><td>3.799999952316284</td><td>0.9703</td><td>8.981</td><td>0.103</td><td>-0.800000011920929</td><td>0.8492</td><td>0000</td><td>ABBU</td><td>0.450972</td><td>0.0</td><td>0.0</td><td>0.0</td><td>0.0</td><td>0.0</td><td>0.0</td><td>0.0</td><td>0.0</td><td>0.0</td><td>0</td><td>-1.0</td><td>-1.0</td><td>-1.0</td></tr>\n",
       "<tr><td>000001.41+200044.1</td><td>0.005912092570781624</td><td>20.012258452497786</td><td>287103247</td><td>6110</td><td>56279</td><td>86</td><td>BOSS</td><td>3.09</td><td>0.0</td><td>VI</td><td>3.0899999141693115</td><td>3.087897539138794</td><td>-1.0</td><td>0</td><td>3.0928133</td><td>-1.0</td><td>-1.0</td><td>3298534883328</td><td>0</td><td>1024</td><td>0</td><td>0</td><td>0</td><td>0</td><td>2</td><td>2</td><td>0 .. -1</td><td>0 .. -1</td><td>0 .. -1</td><td>- .. -</td><td>2867.2402</td><td>170.6342</td><td>0</td><td>-</td><td>0</td><td>0</td><td>-</td><td>-0.42654621601104736 .. 8.79304027557373</td><td>3.944284200668335 .. 0.4377562999725342</td><td>25.94588279724121 .. 20.132043838500977</td><td>1.0714412927627563 .. 0.1840360164642334</td><td>-26.499355</td><td>0.22385552525520325 .. 0.06669722497463226</td><td>0.0</td><td>0.0</td><td>-1.0</td><td>nan</td><td>nan</td><td>nan</td><td>nan</td><td>nan</td><td>nan</td><td>nan</td><td>nan</td><td>1.0</td><td>-0.363820880651474</td><td>0.739653775774356</td><td>-0.16924284398555756</td><td>30.937609136038464</td><td>nan</td><td>nan</td><td>nan</td><td>-1</td><td>nan</td><td>nan</td><td>nan</td><td>-1</td><td>nan</td><td>nan</td><td>nan</td><td>-1</td><td>nan</td><td>16.968</td><td>0.119</td><td>9.100000381469727</td><td>1.077</td><td>16.035</td><td>0.189</td><td>5.699999809265137</td><td>0.9322</td><td>12.16</td><td>0.35</td><td>3.0999999046325684</td><td>0.9644</td><td>9.056</td><td>0.119</td><td>-0.30000001192092896</td><td>1.072</td><td>0000</td><td>BBBU</td><td>1.256771</td><td>0.0</td><td>0.0</td><td>0.0</td><td>0.0</td><td>0.0</td><td>0.0</td><td>0.0</td><td>0.0</td><td>0.0</td><td>-1</td><td>-1.0</td><td>-1.0</td><td>-1.0</td></tr>\n",
       "<tr><td>000001.47+211636.1</td><td>0.006143972596646563</td><td>21.276711551497108</td><td>297314485</td><td>7595</td><td>56957</td><td>273</td><td>BOSS</td><td>0.93537974</td><td>0.0</td><td>AUTO</td><td>-1.0</td><td>0.9353797435760498</td><td>0.0003384661686141044</td><td>0</td><td>0.93427956</td><td>0.9352306</td><td>0.9352306</td><td>0</td><td>0</td><td>0</td><td>0</td><td>1024</td><td>0</td><td>0</td><td>0</td><td>0</td><td>-1 .. -1</td><td>-1 .. -1</td><td>-1 .. -1</td><td>- .. -</td><td>0.0</td><td>0.0</td><td>0</td><td>-</td><td>0</td><td>0</td><td>-</td><td>3.665316343307495 .. 5.531259536743164</td><td>10.382401466369629 .. 0.8739063739776611</td><td>21.0881404876709 .. 20.624008178710938</td><td>0.09166434407234192 .. 0.20283959805965424</td><td>-23.688278</td><td>0.22206206619739532 .. 0.06616286933422089</td><td>0.0</td><td>0.0</td><td>-1.0</td><td>nan</td><td>nan</td><td>nan</td><td>nan</td><td>nan</td><td>nan</td><td>nan</td><td>nan</td><td>1.0</td><td>0.4889582395553589</td><td>136.74002597284343</td><td>1.7640798091888428</td><td>8.704236678310558</td><td>nan</td><td>nan</td><td>nan</td><td>-1</td><td>nan</td><td>nan</td><td>nan</td><td>-1</td><td>nan</td><td>nan</td><td>nan</td><td>-1</td><td>nan</td><td>15.774</td><td>0.051</td><td>21.399999618530273</td><td>0.9575</td><td>14.99</td><td>0.081</td><td>13.399999618530273</td><td>0.8639</td><td>11.996</td><td>nan</td><td>1.2999999523162842</td><td>0.8961</td><td>8.546</td><td>0.051</td><td>0.8999999761581421</td><td>0.9274</td><td>0000</td><td>AAUU</td><td>0.146134</td><td>0.0</td><td>0.0</td><td>0.0</td><td>0.0</td><td>0.0</td><td>0.0</td><td>0.0</td><td>0.0</td><td>0.0</td><td>-1</td><td>-1.0</td><td>-1.0</td><td>-1.0</td></tr>\n",
       "<tr><td>000001.55-003332.6</td><td>0.006463516241467461</td><td>-0.5590658703124322</td><td>85757473</td><td>7850</td><td>56956</td><td>711</td><td>BOSS</td><td>2.2191412</td><td>0.0</td><td>AUTO</td><td>-1.0</td><td>2.2191412448883057</td><td>0.0005558807752095163</td><td>0</td><td>2.2100708</td><td>2.202805</td><td>2.202805</td><td>0</td><td>0</td><td>0</td><td>0</td><td>512</td><td>0</td><td>0</td><td>0</td><td>0</td><td>-1 .. -1</td><td>-1 .. -1</td><td>-1 .. -1</td><td>- .. -</td><td>0.0</td><td>0.0</td><td>0</td><td>-</td><td>0</td><td>0</td><td>-</td><td>0.5731577277183533 .. 0.3124697506427765</td><td>19.320547103881836 .. 1.838296890258789</td><td>23.044668197631836 .. 22.599361419677734</td><td>0.3872269093990326 .. 0.5294012427330017</td><td>-24.156404</td><td>0.1756059229373932 .. 0.05232137069106102</td><td>0.0</td><td>0.0</td><td>-1.0</td><td>nan</td><td>nan</td><td>nan</td><td>nan</td><td>nan</td><td>nan</td><td>nan</td><td>nan</td><td>1.0</td><td>0.10210132598876953</td><td>53.64621814639426</td><td>0.038324024528265</td><td>346.4094524769392</td><td>nan</td><td>nan</td><td>nan</td><td>-1</td><td>nan</td><td>nan</td><td>nan</td><td>-1</td><td>nan</td><td>nan</td><td>nan</td><td>-1</td><td>nan</td><td>nan</td><td>nan</td><td>nan</td><td>nan</td><td>nan</td><td>nan</td><td>nan</td><td>nan</td><td>nan</td><td>nan</td><td>nan</td><td>nan</td><td>nan</td><td>nan</td><td>nan</td><td>nan</td><td></td><td></td><td>nan</td><td>0.0</td><td>0.0</td><td>0.0</td><td>0.0</td><td>0.0</td><td>0.0</td><td>0.0</td><td>0.0</td><td>0.0</td><td>0</td><td>-1.0</td><td>-1.0</td><td>-1.0</td></tr>\n",
       "<tr><td>...</td><td>...</td><td>...</td><td>...</td><td>...</td><td>...</td><td>...</td><td>...</td><td>...</td><td>...</td><td>...</td><td>...</td><td>...</td><td>...</td><td>...</td><td>...</td><td>...</td><td>...</td><td>...</td><td>...</td><td>...</td><td>...</td><td>...</td><td>...</td><td>...</td><td>...</td><td>...</td><td>...</td><td>...</td><td>...</td><td>...</td><td>...</td><td>...</td><td>...</td><td>...</td><td>...</td><td>...</td><td>...</td><td>...</td><td>...</td><td>...</td><td>...</td><td>...</td><td>...</td><td>...</td><td>...</td><td>...</td><td>...</td><td>...</td><td>...</td><td>...</td><td>...</td><td>...</td><td>...</td><td>...</td><td>...</td><td>...</td><td>...</td><td>...</td><td>...</td><td>...</td><td>...</td><td>...</td><td>...</td><td>...</td><td>...</td><td>...</td><td>...</td><td>...</td><td>...</td><td>...</td><td>...</td><td>...</td><td>...</td><td>...</td><td>...</td><td>...</td><td>...</td><td>...</td><td>...</td><td>...</td><td>...</td><td>...</td><td>...</td><td>...</td><td>...</td><td>...</td><td>...</td><td>...</td><td>...</td><td>...</td><td>...</td><td>...</td><td>...</td><td>...</td><td>...</td><td>...</td><td>...</td><td>...</td><td>...</td><td>...</td><td>...</td><td>...</td><td>...</td><td>...</td></tr>\n",
       "<tr><td>235959.64-003921.1</td><td>359.99851995615614</td><td>-0.6558843724431632</td><td>77676700</td><td>7848</td><td>56959</td><td>54</td><td>BOSS</td><td>1.3557843</td><td>0.0</td><td>AUTO</td><td>-1.0</td><td>1.355784296989441</td><td>0.0005937990499660372</td><td>0</td><td>1.3555156000000002</td><td>1.3519648000000002</td><td>1.3519648000000002</td><td>0</td><td>0</td><td>0</td><td>0</td><td>1024</td><td>0</td><td>0</td><td>0</td><td>0</td><td>-1 .. -1</td><td>-1 .. -1</td><td>-1 .. -1</td><td>- .. -</td><td>0.0</td><td>0.0</td><td>0</td><td>-</td><td>0</td><td>0</td><td>-</td><td>1.4755491018295288 .. 1.9537091255187988</td><td>21.705854415893555 .. 2.19503116607666</td><td>22.067970275878906 .. 21.64278221130371</td><td>0.15516740083694458 .. 0.2989932894706726</td><td>-23.167988</td><td>0.17244026064872742 .. 0.051378171890974045</td><td>0.0</td><td>0.0</td><td>-1.0</td><td>nan</td><td>nan</td><td>nan</td><td>nan</td><td>nan</td><td>nan</td><td>nan</td><td>nan</td><td>1.0</td><td>0.049131397157907486</td><td>10.188202405403802</td><td>0.2577308118343353</td><td>0.41426403042377896</td><td>nan</td><td>nan</td><td>nan</td><td>-1</td><td>nan</td><td>nan</td><td>nan</td><td>-1</td><td>nan</td><td>nan</td><td>nan</td><td>-1</td><td>nan</td><td>17.230999999999998</td><td>0.14400000000000002</td><td>7.5</td><td>0.9948</td><td>16.296</td><td>0.239</td><td>4.5</td><td>0.8662</td><td>12.146</td><td>nan</td><td>1.100000023841858</td><td>0.8793</td><td>9.067</td><td>0.14400000000000002</td><td>2.0</td><td>1.027</td><td>0000</td><td>BBUC</td><td>0.944667</td><td>1.0</td><td>1.2221516023973854e-31</td><td>2.8713071701038507e-32</td><td>2.0185505238347825e-32</td><td>4.1694487811342955e-32</td><td>5.063872147099402e-32</td><td>5.165121002018778e-32</td><td>9.98676490571599e-32</td><td>5.932520154560445e-32</td><td>0</td><td>-1.0</td><td>-1.0</td><td>-1.0</td></tr>\n",
       "<tr><td>235959.70+084505.2</td><td>359.99877436139883</td><td>8.751452235361512</td><td>190787316</td><td>6152</td><td>56164</td><td>12</td><td>BOSS</td><td>2.205</td><td>0.0</td><td>VI</td><td>2.2049999237060547</td><td>2.1861588954925537</td><td>0.0005236854776740074</td><td>0</td><td>2.2050369</td><td>2.2072399</td><td>2.2072399</td><td>2199023779840</td><td>0</td><td>0</td><td>0</td><td>0</td><td>0</td><td>0</td><td>0</td><td>0</td><td>-1 .. -1</td><td>-1 .. -1</td><td>-1 .. -1</td><td>- .. -</td><td>0.0</td><td>0.0</td><td>0</td><td>-</td><td>0</td><td>0</td><td>-</td><td>10.209931373596191 .. 33.29141616821289</td><td>1.9940565824508667 .. 0.5809568762779236</td><td>19.97723960876465 .. 18.693634033203125</td><td>0.07527824491262436 .. 0.042745593935251236</td><td>-27.205271000000003</td><td>0.2600480318069458 .. 0.07748069614171982</td><td>0.0</td><td>0.0</td><td>-1.0</td><td>nan</td><td>nan</td><td>nan</td><td>nan</td><td>nan</td><td>nan</td><td>nan</td><td>nan</td><td>1.0</td><td>-0.012690875679254532</td><td>4.967534234447898</td><td>0.4558853209018707</td><td>25.000072736504702</td><td>nan</td><td>nan</td><td>nan</td><td>-1</td><td>nan</td><td>nan</td><td>nan</td><td>-1</td><td>nan</td><td>nan</td><td>nan</td><td>-1</td><td>nan</td><td>15.836</td><td>0.051</td><td>21.399999618530273</td><td>0.9278</td><td>14.646</td><td>0.06</td><td>18.0</td><td>0.9767</td><td>11.143</td><td>0.171</td><td>6.400000095367432</td><td>0.9539</td><td>9.072</td><td>0.051</td><td>2.0</td><td>0.9777</td><td>0000</td><td>AABC</td><td>0.344997</td><td>0.0</td><td>0.0</td><td>0.0</td><td>0.0</td><td>0.0</td><td>0.0</td><td>0.0</td><td>0.0</td><td>0.0</td><td>0</td><td>-1.0</td><td>-1.0</td><td>-1.0</td></tr>\n",
       "<tr><td>235959.71+255838.4</td><td>359.99883155522065</td><td>25.977356307449146</td><td>336778739</td><td>7666</td><td>57339</td><td>844</td><td>BOSS</td><td>3.3075193999999994</td><td>0.0</td><td>AUTO</td><td>-1.0</td><td>3.3075194358825684</td><td>0.002343666972592473</td><td>0</td><td>3.158866</td><td>-1.0</td><td>-1.0</td><td>0</td><td>0</td><td>0</td><td>0</td><td>1024</td><td>0</td><td>0</td><td>0</td><td>0</td><td>-1 .. -1</td><td>-1 .. -1</td><td>-1 .. -1</td><td>- .. -</td><td>0.0</td><td>0.0</td><td>0</td><td>-</td><td>0</td><td>0</td><td>-</td><td>0.4287842810153961 .. 2.2631523609161377</td><td>29.013948440551758 .. 2.113093376159668</td><td>23.318723678588867 .. 21.512279510498047</td><td>0.39360281825065613 .. 0.27620986104011536</td><td>-24.760565</td><td>0.17487069964408875 .. 0.052102312445640564</td><td>0.0</td><td>0.0</td><td>-1.0</td><td>nan</td><td>nan</td><td>nan</td><td>nan</td><td>nan</td><td>nan</td><td>nan</td><td>nan</td><td>1.0</td><td>-0.1665298044681549</td><td>66.92186340057647</td><td>0.14324310421943665</td><td>0.463262848261377</td><td>nan</td><td>nan</td><td>nan</td><td>-1</td><td>nan</td><td>nan</td><td>nan</td><td>-1</td><td>nan</td><td>nan</td><td>nan</td><td>-1</td><td>nan</td><td>nan</td><td>nan</td><td>nan</td><td>nan</td><td>nan</td><td>nan</td><td>nan</td><td>nan</td><td>nan</td><td>nan</td><td>nan</td><td>nan</td><td>nan</td><td>nan</td><td>nan</td><td>nan</td><td></td><td></td><td>nan</td><td>0.0</td><td>0.0</td><td>0.0</td><td>0.0</td><td>0.0</td><td>0.0</td><td>0.0</td><td>0.0</td><td>0.0</td><td>-1</td><td>-1.0</td><td>-1.0</td><td>-1.0</td></tr>\n",
       "<tr><td>235959.74+100700.4</td><td>359.99892231843813</td><td>10.116800342372995</td><td>202268211</td><td>6182</td><td>56190</td><td>380</td><td>BOSS</td><td>2.415</td><td>0.0</td><td>VI</td><td>2.414999961853028</td><td>2.4158482551574707</td><td>0.0004391265101730824</td><td>0</td><td>2.4162044999999996</td><td>2.394154</td><td>2.394154</td><td>2199023255552</td><td>0</td><td>0</td><td>0</td><td>0</td><td>0</td><td>0</td><td>0</td><td>0</td><td>-1 .. -1</td><td>-1 .. -1</td><td>-1 .. -1</td><td>- .. -</td><td>0.0</td><td>0.0</td><td>0</td><td>-</td><td>0</td><td>0</td><td>-</td><td>0.13701799511909485 .. 2.3733279705047607</td><td>8.572785377502441 .. 0.8092840313911438</td><td>24.122575759887695 .. 21.46878433227539</td><td>1.1895657777786255 .. 0.43150395154953003</td><td>-25.087162</td><td>0.39340513944625854 .. 0.117214135825634</td><td>0.0</td><td>0.0</td><td>-1.0</td><td>nan</td><td>nan</td><td>nan</td><td>nan</td><td>nan</td><td>nan</td><td>nan</td><td>nan</td><td>1.0</td><td>0.8168631196022034</td><td>5.3016064747843945</td><td>0.18351194262504572</td><td>7.803975152448138</td><td>nan</td><td>nan</td><td>nan</td><td>-1</td><td>nan</td><td>nan</td><td>nan</td><td>-1</td><td>nan</td><td>nan</td><td>nan</td><td>-1</td><td>nan</td><td>nan</td><td>nan</td><td>nan</td><td>nan</td><td>nan</td><td>nan</td><td>nan</td><td>nan</td><td>nan</td><td>nan</td><td>nan</td><td>nan</td><td>nan</td><td>nan</td><td>nan</td><td>nan</td><td></td><td></td><td>nan</td><td>1.0</td><td>1.1244376940898019e-31</td><td>2.6793083880594683e-32</td><td>1.4119519749068605e-31</td><td>3.7041008366232856e-32</td><td>1.6103698965022135e-31</td><td>5.596675541058764e-32</td><td>1.9354891819975573e-31</td><td>5.194566547759703e-32</td><td>0</td><td>-1.0</td><td>-1.0</td><td>-1.0</td></tr>\n",
       "<tr><td>235959.76+242448.7</td><td>359.999027641761</td><td>24.41354843124339</td><td>323503200</td><td>7666</td><td>57339</td><td>130</td><td>BOSS</td><td>1.4900646999999998</td><td>0.0</td><td>AUTO</td><td>-1.0</td><td>1.4900647401809692</td><td>0.0005706399097107353</td><td>0</td><td>1.4877276000000001</td><td>1.4901986999999999</td><td>1.4901986999999999</td><td>0</td><td>0</td><td>0</td><td>0</td><td>3072</td><td>0</td><td>0</td><td>0</td><td>0</td><td>-1 .. -1</td><td>-1 .. -1</td><td>-1 .. -1</td><td>- .. -</td><td>0.0</td><td>0.0</td><td>0</td><td>-</td><td>0</td><td>0</td><td>-</td><td>2.8394405841827393 .. 7.860564231872559</td><td>16.299022674560547 .. 1.5556150674819946</td><td>21.364288330078125 .. 20.251869201660156</td><td>0.09425608068704605 .. 0.10883158445358276</td><td>-24.493919</td><td>0.43763792514801025 .. 0.13039319217205048</td><td>0.0</td><td>0.0</td><td>-1.0</td><td>nan</td><td>nan</td><td>nan</td><td>nan</td><td>nan</td><td>nan</td><td>nan</td><td>nan</td><td>1.0</td><td>-0.2318636924028397</td><td>28.97845190439065</td><td>0.6528385877609253</td><td>6.0032878643597165</td><td>nan</td><td>nan</td><td>nan</td><td>-1</td><td>nan</td><td>nan</td><td>nan</td><td>-1</td><td>nan</td><td>nan</td><td>nan</td><td>-1</td><td>nan</td><td>16.863</td><td>0.105</td><td>10.399999618530273</td><td>0.8879</td><td>16.061</td><td>0.17800000000000002</td><td>6.099999904632568</td><td>0.8593</td><td>12.048</td><td>nan</td><td>1.2999999523162842</td><td>0.877</td><td>8.255</td><td>0.105</td><td>1.7000000476837158</td><td>1.052</td><td>0000</td><td>ABUU</td><td>1.0657709999999998</td><td>0.0</td><td>0.0</td><td>0.0</td><td>0.0</td><td>0.0</td><td>0.0</td><td>0.0</td><td>0.0</td><td>0.0</td><td>-1</td><td>-1.0</td><td>-1.0</td><td>-1.0</td></tr>\n",
       "<tr><td>235959.78+285717.0</td><td>359.9991177907408</td><td>28.95473424342157</td><td>360831416</td><td>6511</td><td>56540</td><td>912</td><td>BOSS</td><td>2.452</td><td>0.0</td><td>VI</td><td>2.45199990272522</td><td>2.4509875774383545</td><td>0.0006248197169043124</td><td>0</td><td>2.4450705000000004</td><td>-1.0</td><td>-1.0</td><td>3298535424000</td><td>0</td><td>0</td><td>0</td><td>0</td><td>0</td><td>0</td><td>1</td><td>1</td><td>0 .. -1</td><td>0 .. -1</td><td>0 .. -1</td><td>- .. -</td><td>0.0</td><td>0.0</td><td>0</td><td>-</td><td>0</td><td>0</td><td>-</td><td>1.4106802940368652 .. 4.767739295959473</td><td>29.066919326782227 .. 2.151970863342285</td><td>22.115888595581055 .. 20.778961181640625</td><td>0.14002498984336853 .. 0.14825759828090668</td><td>-25.083122</td><td>0.23128443956375122 .. 0.06891065090894699</td><td>0.0</td><td>0.0</td><td>-1.0</td><td>nan</td><td>nan</td><td>nan</td><td>nan</td><td>nan</td><td>nan</td><td>nan</td><td>nan</td><td>1.0</td><td>0.012952172197401524</td><td>9.38362862573936</td><td>0.5922036170959473</td><td>0.3776120550528195</td><td>nan</td><td>nan</td><td>nan</td><td>-1</td><td>nan</td><td>nan</td><td>nan</td><td>-1</td><td>nan</td><td>nan</td><td>nan</td><td>-1</td><td>nan</td><td>17.312</td><td>0.122</td><td>8.899999618530273</td><td>0.9385</td><td>16.092</td><td>0.172</td><td>6.300000190734863</td><td>0.9008</td><td>12.012</td><td>nan</td><td>1.399999976158142</td><td>1.01</td><td>8.572000000000001</td><td>0.122</td><td>1.600000023841858</td><td>0.999</td><td>0000</td><td>BBUU</td><td>1.948948</td><td>0.0</td><td>0.0</td><td>0.0</td><td>0.0</td><td>0.0</td><td>0.0</td><td>0.0</td><td>0.0</td><td>0.0</td><td>-1</td><td>-1.0</td><td>-1.0</td><td>-1.0</td></tr>\n",
       "<tr><td>235959.83+344315.0</td><td>359.9993034693268</td><td>34.720842482815726</td><td>401165277</td><td>7145</td><td>56567</td><td>240</td><td>BOSS</td><td>3.109</td><td>0.0</td><td>VI</td><td>3.108999967575073</td><td>3.1135237216949463</td><td>0.00039327019476331765</td><td>0</td><td>3.1030495</td><td>-1.0</td><td>-1.0</td><td>3298535424000</td><td>0</td><td>0</td><td>0</td><td>0</td><td>0</td><td>0</td><td>0</td><td>0</td><td>-1 .. -1</td><td>-1 .. -1</td><td>-1 .. -1</td><td>- .. -</td><td>0.0</td><td>0.0</td><td>0</td><td>-</td><td>0</td><td>0</td><td>-</td><td>0.26430341601371765 .. 15.253443717956543</td><td>27.282411575317383 .. 1.2617765665054321</td><td>23.72138786315918 .. 19.539033889770508</td><td>0.5398540496826172 .. 0.063071109354496</td><td>-27.310951</td><td>0.3354918956756592 .. 0.09995901584625244</td><td>0.0</td><td>0.0</td><td>-1.0</td><td>nan</td><td>nan</td><td>nan</td><td>nan</td><td>nan</td><td>nan</td><td>nan</td><td>nan</td><td>1.0</td><td>-0.17406196892261505</td><td>21.936797353156877</td><td>0.14728955924510956</td><td>7.039888551569028</td><td>nan</td><td>nan</td><td>nan</td><td>-1</td><td>nan</td><td>nan</td><td>nan</td><td>-1</td><td>nan</td><td>nan</td><td>nan</td><td>-1</td><td>nan</td><td>nan</td><td>nan</td><td>nan</td><td>nan</td><td>nan</td><td>nan</td><td>nan</td><td>nan</td><td>nan</td><td>nan</td><td>nan</td><td>nan</td><td>nan</td><td>nan</td><td>nan</td><td>nan</td><td></td><td></td><td>nan</td><td>0.0</td><td>0.0</td><td>0.0</td><td>0.0</td><td>0.0</td><td>0.0</td><td>0.0</td><td>0.0</td><td>0.0</td><td>-1</td><td>-1.0</td><td>-1.0</td><td>-1.0</td></tr>\n",
       "<tr><td>235959.90+031606.9</td><td>359.9996152416898</td><td>3.2685861656570725</td><td>139887781</td><td>8741</td><td>57390</td><td>60</td><td>BOSS</td><td>1.2331611</td><td>0.0</td><td>AUTO</td><td>-1.0</td><td>1.2331610918045044</td><td>0.00017904076958075166</td><td>0</td><td>1.233739</td><td>1.2347603</td><td>1.2347603</td><td>0</td><td>0</td><td>0</td><td>0</td><td>1024</td><td>0</td><td>0</td><td>0</td><td>0</td><td>-1 .. -1</td><td>-1 .. -1</td><td>-1 .. -1</td><td>- .. -</td><td>0.0</td><td>0.0</td><td>0</td><td>-</td><td>0</td><td>0</td><td>-</td><td>27.749706268310547 .. 32.96937942504883</td><td>3.1735503673553467 .. 0.6952154040336609</td><td>18.891826629638672 .. 18.70417594909668</td><td>0.021961960941553116 .. 0.0394563302397728</td><td>-25.967665</td><td>0.09945588558912277 .. 0.029632646590471268</td><td>0.0</td><td>0.0</td><td>-1.0</td><td>nan</td><td>nan</td><td>nan</td><td>nan</td><td>nan</td><td>nan</td><td>nan</td><td>nan</td><td>1.0</td><td>-0.049239084124565125</td><td>6.706261091725037</td><td>6.480186462402344</td><td>2.184885105525128</td><td>nan</td><td>nan</td><td>nan</td><td>-1</td><td>nan</td><td>nan</td><td>nan</td><td>-1</td><td>nan</td><td>nan</td><td>nan</td><td>-1</td><td>nan</td><td>nan</td><td>nan</td><td>nan</td><td>nan</td><td>nan</td><td>nan</td><td>nan</td><td>nan</td><td>nan</td><td>nan</td><td>nan</td><td>nan</td><td>nan</td><td>nan</td><td>nan</td><td>nan</td><td></td><td></td><td>nan</td><td>0.0</td><td>0.0</td><td>0.0</td><td>0.0</td><td>0.0</td><td>0.0</td><td>0.0</td><td>0.0</td><td>0.0</td><td>0</td><td>-1.0</td><td>-1.0</td><td>-1.0</td></tr>\n",
       "<tr><td>235959.94+204315.8</td><td>359.9997591000248</td><td>20.72107938656721</td><td>292309197</td><td>7595</td><td>56957</td><td>259</td><td>BOSS</td><td>2.0099409</td><td>0.0</td><td>AUTO</td><td>-1.0</td><td>2.00994086265564</td><td>0.0005322270444594325</td><td>0</td><td>2.0155287</td><td>2.0139256000000003</td><td>2.0139256000000003</td><td>0</td><td>0</td><td>0</td><td>0</td><td>1024</td><td>0</td><td>0</td><td>0</td><td>0</td><td>-1 .. -1</td><td>-1 .. -1</td><td>-1 .. -1</td><td>- .. -</td><td>0.0</td><td>0.0</td><td>0</td><td>-</td><td>0</td><td>0</td><td>-</td><td>7.154123306274414 .. 11.336148262023926</td><td>5.407712936401367 .. 0.8053292036056519</td><td>20.36319351196289 .. 19.85923957824707</td><td>0.0652121752500534 .. 0.10582835227251053</td><td>-25.787945</td><td>0.2858889698982239 .. 0.08517993986606598</td><td>0.0</td><td>0.0</td><td>-1.0</td><td>nan</td><td>nan</td><td>nan</td><td>nan</td><td>nan</td><td>nan</td><td>nan</td><td>nan</td><td>1.0</td><td>0.08469399809837341</td><td>30.776068553236605</td><td>1.8014731407165527</td><td>89.4015925136389</td><td>nan</td><td>nan</td><td>nan</td><td>-1</td><td>nan</td><td>nan</td><td>nan</td><td>-1</td><td>nan</td><td>nan</td><td>nan</td><td>-1</td><td>nan</td><td>16.896</td><td>0.104</td><td>10.399999618530273</td><td>0.9653</td><td>15.893</td><td>0.16</td><td>6.800000190734863</td><td>1.022</td><td>12.621</td><td>nan</td><td>-2.0</td><td>0.9596</td><td>8.572000000000001</td><td>0.104</td><td>1.2000000476837158</td><td>1.012</td><td>0000</td><td>ABUU</td><td>0.106632</td><td>0.0</td><td>0.0</td><td>0.0</td><td>0.0</td><td>0.0</td><td>0.0</td><td>0.0</td><td>0.0</td><td>0.0</td><td>-1</td><td>-1.0</td><td>-1.0</td><td>-1.0</td></tr>\n",
       "<tr><td>235959.98+344449.6</td><td>359.9999541295649</td><td>34.747133291446325</td><td>401165238</td><td>7145</td><td>56567</td><td>262</td><td>BOSS</td><td>2.375</td><td>0.0</td><td>VI</td><td>2.375</td><td>2.397723913192749</td><td>0.0003489350492600352</td><td>0</td><td>2.3635013</td><td>2.3669076000000002</td><td>2.3669076000000002</td><td>3298535424000</td><td>0</td><td>0</td><td>0</td><td>0</td><td>0</td><td>0</td><td>0</td><td>0</td><td>-1 .. -1</td><td>-1 .. -1</td><td>-1 .. -1</td><td>- .. -</td><td>199.63788</td><td>13.583471</td><td>0</td><td>-</td><td>0</td><td>0</td><td>-</td><td>2.0665082931518555 .. 10.901832580566406</td><td>20.731266021728516 .. 1.3692610263824463</td><td>21.706958770751953 .. 19.901283264160156</td><td>0.11434675753116608 .. 0.08433660119771957</td><td>-26.091427</td><td>0.3320152461528778 .. 0.09892316162586212</td><td>0.0</td><td>0.0</td><td>-1.0</td><td>nan</td><td>nan</td><td>nan</td><td>nan</td><td>nan</td><td>nan</td><td>nan</td><td>nan</td><td>1.0</td><td>-0.353803426027298</td><td>2.7362933480076053</td><td>0.3526000678539276</td><td>0.9934353697992904</td><td>nan</td><td>nan</td><td>nan</td><td>-1</td><td>nan</td><td>nan</td><td>nan</td><td>-1</td><td>nan</td><td>nan</td><td>nan</td><td>-1</td><td>nan</td><td>nan</td><td>nan</td><td>nan</td><td>nan</td><td>nan</td><td>nan</td><td>nan</td><td>nan</td><td>nan</td><td>nan</td><td>nan</td><td>nan</td><td>nan</td><td>nan</td><td>nan</td><td>nan</td><td></td><td></td><td>nan</td><td>0.0</td><td>0.0</td><td>0.0</td><td>0.0</td><td>0.0</td><td>0.0</td><td>0.0</td><td>0.0</td><td>0.0</td><td>-1</td><td>-1.0</td><td>-1.0</td><td>-1.0</td></tr>\n",
       "</table>"
      ],
      "text/plain": [
       "<Table length=526356>\n",
       "    SDSS_NAME                RA          ... FIRST_SNR SDSS2FIRST_SEP\n",
       "      str18               float64        ...  float64     float64    \n",
       "------------------ --------------------- ... --------- --------------\n",
       "000000.45+174625.4  0.001898274356335605 ...      -1.0           -1.0\n",
       "000000.57+055630.8 0.0023754761888312714 ...      -1.0           -1.0\n",
       "000000.66+145828.8  0.002756432550313548 ...      -1.0           -1.0\n",
       "000000.97+044947.2  0.004052389452795069 ...      -1.0           -1.0\n",
       "000001.20+240354.5  0.005025713552072375 ...      -1.0           -1.0\n",
       "000001.27-020159.7  0.005316971570891838 ...  7.048389        0.57105\n",
       "000001.37-011930.0  0.005746209112004408 ...      -1.0           -1.0\n",
       "000001.41+200044.1  0.005912092570781624 ...      -1.0           -1.0\n",
       "000001.47+211636.1  0.006143972596646563 ...      -1.0           -1.0\n",
       "000001.55-003332.6  0.006463516241467461 ...      -1.0           -1.0\n",
       "               ...                   ... ...       ...            ...\n",
       "235959.64-003921.1    359.99851995615614 ...      -1.0           -1.0\n",
       "235959.70+084505.2    359.99877436139883 ...      -1.0           -1.0\n",
       "235959.71+255838.4    359.99883155522065 ...      -1.0           -1.0\n",
       "235959.74+100700.4    359.99892231843813 ...      -1.0           -1.0\n",
       "235959.76+242448.7      359.999027641761 ...      -1.0           -1.0\n",
       "235959.78+285717.0     359.9991177907408 ...      -1.0           -1.0\n",
       "235959.83+344315.0     359.9993034693268 ...      -1.0           -1.0\n",
       "235959.90+031606.9     359.9996152416898 ...      -1.0           -1.0\n",
       "235959.94+204315.8     359.9997591000248 ...      -1.0           -1.0\n",
       "235959.98+344449.6     359.9999541295649 ...      -1.0           -1.0"
      ]
     },
     "execution_count": 7,
     "metadata": {},
     "output_type": "execute_result"
    }
   ],
   "source": [
    "Table(quasar_data)"
   ]
  },
  {
   "cell_type": "code",
   "execution_count": 14,
   "metadata": {
    "scrolled": true
   },
   "outputs": [],
   "source": [
    "# this code copies the fits in their respective folders into one folder\n",
    "\n",
    "def copyfiles_fromfolder_tofolder(Root_dir,target_folder,extension):\n",
    "    RootDir1 = str(Root_dir)\n",
    "    TargetFolder = str(target_folder)\n",
    "    for root, dirs, files in os.walk((os.path.normpath(RootDir1)), topdown=False):\n",
    "        for name in files:\n",
    "            if name.endswith(str(extension)):\n",
    "                SourceFolder = os.path.join(root,name)\n",
    "                shutil.copy2(SourceFolder, TargetFolder)\n",
    "\n",
    "\n",
    "# this is the function code w/ example\n",
    "\n",
    "# RootDir1 = \"/Users/matt/Desktop/DESI_Research/DESI_ML/Valid_Quasar_Data\"\n",
    "# TargetFolder = \"/Users/matt/Desktop/DESI_Research/DESI_ML/good_quasars\"\n",
    "# for root, dirs, files in os.walk((os.path.normpath(RootDir1)), topdown=False):\n",
    "#         for name in files:\n",
    "#             if name.endswith('.fits'):\n",
    "#                 #print(\"Found\")\n",
    "#                 SourceFolder = os.path.join(root,name)\n",
    "#                 shutil.copy2(SourceFolder, TargetFolder) #copies csv to new folder\n",
    "\n"
   ]
  },
  {
   "cell_type": "code",
   "execution_count": 9,
   "metadata": {},
   "outputs": [],
   "source": [
    "RootDir1 = \"/Users/matt/Desktop/DESI_Research/DESI_ML/Valid_all_quasars\"\n",
    "TargetFolder = \"/Users/matt/Desktop/DESI_Research/DESI_ML/good_all_quasars\"\n",
    "for root, dirs, files in os.walk((os.path.normpath(RootDir1)), topdown=False):\n",
    "        for name in files:\n",
    "            if name.endswith('.fits'):\n",
    "                #print(\"Found\")\n",
    "                SourceFolder = os.path.join(root,name)\n",
    "                shutil.copy2(SourceFolder, TargetFolder)"
   ]
  },
  {
   "cell_type": "code",
   "execution_count": null,
   "metadata": {},
   "outputs": [],
   "source": [
    "RootDir1 = \"/Users/matt/Desktop/DESI_Research/DESI_ML/Valid_all_stars\"\n",
    "TargetFolder = \"/Users/matt/Desktop/DESI_Research/DESI_ML/good_all_stars\"\n",
    "for root, dirs, files in os.walk((os.path.normpath(RootDir1)), topdown=False):\n",
    "        for name in files:\n",
    "            if name.endswith('.fits'):\n",
    "                #print(\"Found\")\n",
    "                SourceFolder = os.path.join(root,name)\n",
    "                shutil.copy2(SourceFolder, TargetFolder)"
   ]
  },
  {
   "cell_type": "code",
   "execution_count": null,
   "metadata": {},
   "outputs": [],
   "source": []
  }
 ],
 "metadata": {
  "kernelspec": {
   "display_name": "Python 3",
   "language": "python",
   "name": "python3"
  },
  "language_info": {
   "codemirror_mode": {
    "name": "ipython",
    "version": 3
   },
   "file_extension": ".py",
   "mimetype": "text/x-python",
   "name": "python",
   "nbconvert_exporter": "python",
   "pygments_lexer": "ipython3",
   "version": "3.6.7"
  }
 },
 "nbformat": 4,
 "nbformat_minor": 2
}
